{
 "cells": [
  {
   "cell_type": "code",
   "execution_count": 1,
   "id": "7eb2df4b",
   "metadata": {},
   "outputs": [
    {
     "name": "stderr",
     "output_type": "stream",
     "text": [
      "2023-09-11 17:49:37.696485: I tensorflow/core/platform/cpu_feature_guard.cc:182] This TensorFlow binary is optimized to use available CPU instructions in performance-critical operations.\n",
      "To enable the following instructions: AVX2 FMA, in other operations, rebuild TensorFlow with the appropriate compiler flags.\n"
     ]
    }
   ],
   "source": [
    "import tensorflow as tf\n",
    "from tensorflow.keras import datasets, layers, models\n",
    "import datetime\n",
    "\n",
    "# Завантаження та підготовка CIFAR-10 датасету\n",
    "(train_images, train_labels), (test_images, test_labels) = datasets.cifar10.load_data()\n",
    "train_images, test_images = train_images / 255.0, test_images / 255.0  # Нормалізація даних\n"
   ]
  },
  {
   "cell_type": "code",
   "execution_count": 2,
   "id": "f101245f",
   "metadata": {},
   "outputs": [],
   "source": [
    "# Створення моделі CNN\n",
    "model = models.Sequential([\n",
    "    layers.Conv2D(32, (3, 3), activation='relu', input_shape=(32, 32, 3)),\n",
    "    layers.MaxPooling2D((2, 2)),\n",
    "    layers.Conv2D(64, (3, 3), activation='relu'),\n",
    "    layers.MaxPooling2D((2, 2)),\n",
    "    layers.Conv2D(64, (3, 3), activation='relu'),\n",
    "    layers.Flatten(),\n",
    "    layers.Dense(64, activation='relu'),\n",
    "    layers.Dense(10)\n",
    "])\n"
   ]
  },
  {
   "cell_type": "code",
   "execution_count": 3,
   "id": "0416e53e",
   "metadata": {},
   "outputs": [],
   "source": [
    "model.compile(optimizer='adam',\n",
    "              loss=tf.keras.losses.SparseCategoricalCrossentropy(from_logits=True),\n",
    "              metrics=['accuracy'])\n"
   ]
  },
  {
   "cell_type": "code",
   "execution_count": 4,
   "id": "1f11dc1d",
   "metadata": {},
   "outputs": [],
   "source": [
    "# Задаємо директорію для логів\n",
    "log_dir = \"logs/fit/\" + datetime.datetime.now().strftime(\"%Y%m%d-%H%M%S\")\n",
    "\n",
    "# Створення TensorBoard колбеку\n",
    "tensorboard_callback = tf.keras.callbacks.TensorBoard(log_dir=log_dir, histogram_freq=1, write_graph=True)\n"
   ]
  },
  {
   "cell_type": "code",
   "execution_count": 5,
   "id": "d3e0b55b",
   "metadata": {},
   "outputs": [
    {
     "name": "stdout",
     "output_type": "stream",
     "text": [
      "Epoch 1/10\n",
      "1563/1563 [==============================] - 71s 44ms/step - loss: 1.5276 - accuracy: 0.4442 - val_loss: 1.2522 - val_accuracy: 0.5477\n",
      "Epoch 2/10\n",
      "1563/1563 [==============================] - 60s 39ms/step - loss: 1.1593 - accuracy: 0.5890 - val_loss: 1.0955 - val_accuracy: 0.6120\n",
      "Epoch 3/10\n",
      "1563/1563 [==============================] - 60s 38ms/step - loss: 1.0031 - accuracy: 0.6469 - val_loss: 0.9598 - val_accuracy: 0.6655\n",
      "Epoch 4/10\n",
      "1563/1563 [==============================] - 64s 41ms/step - loss: 0.9080 - accuracy: 0.6827 - val_loss: 0.9898 - val_accuracy: 0.6569\n",
      "Epoch 5/10\n",
      "1563/1563 [==============================] - 61s 39ms/step - loss: 0.8404 - accuracy: 0.7044 - val_loss: 0.9208 - val_accuracy: 0.6816\n",
      "Epoch 6/10\n",
      "1563/1563 [==============================] - 59s 38ms/step - loss: 0.7867 - accuracy: 0.7249 - val_loss: 0.8738 - val_accuracy: 0.6959\n",
      "Epoch 7/10\n",
      "1563/1563 [==============================] - 61s 39ms/step - loss: 0.7385 - accuracy: 0.7406 - val_loss: 0.8464 - val_accuracy: 0.7114\n",
      "Epoch 8/10\n",
      "1563/1563 [==============================] - 60s 39ms/step - loss: 0.6950 - accuracy: 0.7563 - val_loss: 0.9027 - val_accuracy: 0.6941\n",
      "Epoch 9/10\n",
      "1563/1563 [==============================] - 59s 38ms/step - loss: 0.6619 - accuracy: 0.7690 - val_loss: 0.8142 - val_accuracy: 0.7204\n",
      "Epoch 10/10\n",
      "1563/1563 [==============================] - 61s 39ms/step - loss: 0.6276 - accuracy: 0.7779 - val_loss: 0.8697 - val_accuracy: 0.7151\n"
     ]
    },
    {
     "data": {
      "text/plain": [
       "<keras.src.callbacks.History at 0x7fdde02c0730>"
      ]
     },
     "execution_count": 5,
     "metadata": {},
     "output_type": "execute_result"
    }
   ],
   "source": [
    "# Тренування моделі\n",
    "model.fit(\n",
    "    train_images,\n",
    "    train_labels,\n",
    "    epochs=10,\n",
    "    validation_data=(test_images, test_labels),\n",
    "    callbacks=[tensorboard_callback]\n",
    ")\n"
   ]
  },
  {
   "cell_type": "code",
   "execution_count": null,
   "id": "4f7836a8",
   "metadata": {},
   "outputs": [],
   "source": []
  }
 ],
 "metadata": {
  "kernelspec": {
   "display_name": "Python 3 (ipykernel)",
   "language": "python",
   "name": "python3"
  },
  "language_info": {
   "codemirror_mode": {
    "name": "ipython",
    "version": 3
   },
   "file_extension": ".py",
   "mimetype": "text/x-python",
   "name": "python",
   "nbconvert_exporter": "python",
   "pygments_lexer": "ipython3",
   "version": "3.9.13"
  }
 },
 "nbformat": 4,
 "nbformat_minor": 5
}
