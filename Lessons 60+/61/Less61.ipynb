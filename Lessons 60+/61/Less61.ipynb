{
 "cells": [
  {
   "cell_type": "code",
   "execution_count": 1,
   "id": "15804f9d",
   "metadata": {},
   "outputs": [],
   "source": [
    "from PIL import Image\n",
    "import gzip\n",
    "import shutil\n",
    "\n",
    "# Завантажте зображення\n",
    "img = Image.open('/Users/iWolfer/Desktop/Pycharm/homework(pds6)/Lessons 60+/61/bukvu_news.png')\n",
    "\n",
    "# Збережіть зображення у форматі JPEG із зазначенням якості\n",
    "img.save('new_bukvu.jpeg', 'JPEG', quality=90)"
   ]
  },
  {
   "cell_type": "code",
   "execution_count": 3,
   "id": "610720fa",
   "metadata": {},
   "outputs": [],
   "source": [
    "with open('/Users/iWolfer/Desktop/Pycharm/homework(pds6)/Lessons 60+/61/UA.txt', 'rb') as f_in:\n",
    "    with gzip.open('UA.txt.gz', 'wb') as f_out:\n",
    "        shutil.copyfileobj(f_in, f_out)"
   ]
  }
 ],
 "metadata": {
  "kernelspec": {
   "display_name": "Python 3 (ipykernel)",
   "language": "python",
   "name": "python3"
  },
  "language_info": {
   "codemirror_mode": {
    "name": "ipython",
    "version": 3
   },
   "file_extension": ".py",
   "mimetype": "text/x-python",
   "name": "python",
   "nbconvert_exporter": "python",
   "pygments_lexer": "ipython3",
   "version": "3.9.13"
  }
 },
 "nbformat": 4,
 "nbformat_minor": 5
}
