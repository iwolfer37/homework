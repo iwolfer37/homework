{
 "cells": [
  {
   "cell_type": "code",
   "execution_count": 7,
   "id": "27f24256",
   "metadata": {},
   "outputs": [],
   "source": [
    "import os\n",
    "import cv2\n",
    "import numpy as np\n",
    "from tensorflow.keras.utils import to_categorical\n",
    "from sklearn.model_selection import train_test_split\n",
    "from tensorflow.keras.models import Sequential\n",
    "from tensorflow.keras.layers import Conv2D, MaxPooling2D, Flatten, Dropout, Dense\n",
    "\n",
    "def load_data(data_path, categories):\n",
    "    data = []\n",
    "    labels = []\n",
    "    \n",
    "    for category in categories:\n",
    "        folder_path = os.path.join(data_path, category)\n",
    "        for img_name in os.listdir(folder_path):\n",
    "            if img_name == '.DS_Store':\n",
    "                continue\n",
    "            img_path = os.path.join(folder_path, img_name)\n",
    "            \n",
    "            # Read the image and resize it to 224x224 pixels\n",
    "            img = cv2.imread(img_path)\n",
    "            if img is None:\n",
    "                print(f\"Could not load image at {img_path}\")\n",
    "                continue\n",
    "            img = cv2.resize(img, (224, 224))\n",
    "            \n",
    "            data.append(img)\n",
    "            labels.append(category)\n",
    "    \n",
    "    return np.array(data), np.array(labels)"
   ]
  },
  {
   "cell_type": "code",
   "execution_count": 8,
   "id": "6b92eb1e",
   "metadata": {},
   "outputs": [],
   "source": [
    "def preprocess_labels(labels):\n",
    "    labels = np.array([0 if label == 'with_mask' else 1 for label in labels])\n",
    "    return to_categorical(labels)\n",
    "\n",
    "def normalize_data(data):\n",
    "    data = np.array(data, dtype=\"float32\")\n",
    "    return data / 255.0\n",
    "\n",
    "def create_model(input_shape):\n",
    "    model = Sequential()\n",
    "    \n",
    "    model.add(Conv2D(32, (3, 3), activation='relu', input_shape=input_shape))\n",
    "    model.add(MaxPooling2D(2, 2))\n",
    "    \n",
    "    model.add(Conv2D(64, (3, 3), activation='relu'))\n",
    "    model.add(MaxPooling2D(2, 2))\n",
    "    \n",
    "    model.add(Conv2D(128, (3, 3), activation='relu'))\n",
    "    model.add(MaxPooling2D(2, 2))\n",
    "    \n",
    "    model.add(Flatten())\n",
    "    \n",
    "    model.add(Dropout(0.5))\n",
    "    \n",
    "    model.add(Dense(50, activation='relu'))\n",
    "    \n",
    "    model.add(Dense(2, activation='softmax'))\n",
    "    \n",
    "    return model"
   ]
  },
  {
   "cell_type": "code",
   "execution_count": 9,
   "id": "47b8c274",
   "metadata": {},
   "outputs": [
    {
     "name": "stdout",
     "output_type": "stream",
     "text": [
      "Epoch 1/10\n",
      "31/31 [==============================] - 12s 367ms/step - loss: 0.5234 - accuracy: 0.8202 - val_loss: 0.1479 - val_accuracy: 0.9455\n",
      "Epoch 2/10\n",
      "31/31 [==============================] - 11s 364ms/step - loss: 0.1265 - accuracy: 0.9535 - val_loss: 0.1257 - val_accuracy: 0.9545\n",
      "Epoch 3/10\n",
      "31/31 [==============================] - 11s 365ms/step - loss: 0.0697 - accuracy: 0.9737 - val_loss: 0.1323 - val_accuracy: 0.9636\n",
      "Epoch 4/10\n",
      "31/31 [==============================] - 11s 367ms/step - loss: 0.0459 - accuracy: 0.9798 - val_loss: 0.0736 - val_accuracy: 0.9818\n",
      "Epoch 5/10\n",
      "31/31 [==============================] - 11s 366ms/step - loss: 0.0660 - accuracy: 0.9848 - val_loss: 0.1169 - val_accuracy: 0.9636\n",
      "Epoch 6/10\n",
      "31/31 [==============================] - 11s 365ms/step - loss: 0.0937 - accuracy: 0.9687 - val_loss: 0.1278 - val_accuracy: 0.9727\n",
      "Epoch 7/10\n",
      "31/31 [==============================] - 11s 364ms/step - loss: 0.0334 - accuracy: 0.9919 - val_loss: 0.1946 - val_accuracy: 0.9455\n",
      "Epoch 8/10\n",
      "31/31 [==============================] - 11s 365ms/step - loss: 0.0228 - accuracy: 0.9919 - val_loss: 0.1157 - val_accuracy: 0.9818\n",
      "Epoch 9/10\n",
      "31/31 [==============================] - 11s 365ms/step - loss: 0.0075 - accuracy: 0.9980 - val_loss: 0.1449 - val_accuracy: 0.9727\n",
      "Epoch 10/10\n",
      "31/31 [==============================] - 11s 364ms/step - loss: 0.0049 - accuracy: 0.9970 - val_loss: 0.1386 - val_accuracy: 0.9818\n"
     ]
    }
   ],
   "source": [
    "\n",
    "if __name__ == '__main__':\n",
    "    data_path = '/Users/iWolfer/Desktop/Pycharm/homework(pds6)/Lessons 60+/66/data'\n",
    "    categories = ['with_mask', 'without_mask']\n",
    "\n",
    "    data, labels = load_data(data_path, categories)\n",
    "    \n",
    "    labels = preprocess_labels(labels)\n",
    "    data = normalize_data(data)\n",
    "    \n",
    "    trainX, testX, trainY, testY = train_test_split(data, labels, test_size=0.2, stratify=labels, random_state=42)\n",
    "    \n",
    "    input_shape = (224, 224, 3)\n",
    "    model = create_model(input_shape)\n",
    "    \n",
    "    model.compile(optimizer='adam', loss='categorical_crossentropy', metrics=['accuracy'])\n",
    "    \n",
    "    model.fit(trainX, trainY, epochs=10, validation_split=0.1, batch_size=32)\n",
    "    \n",
    "    def predict_mask(image_path):\n",
    "        img = cv2.imread(image_path)\n",
    "        img = cv2.resize(img, (224, 224))\n",
    "        img = np.reshape(img, [1, 224, 224, 3])\n",
    "        prediction = model.predict(img)\n",
    "        \n",
    "        return 'З маскою' if np.argmax(prediction) == 0 else 'Без маски'"
   ]
  },
  {
   "cell_type": "code",
   "execution_count": 10,
   "id": "585efb3d",
   "metadata": {},
   "outputs": [
    {
     "name": "stdout",
     "output_type": "stream",
     "text": [
      "1/1 [==============================] - 0s 33ms/step\n",
      "Без маски\n"
     ]
    }
   ],
   "source": [
    "        \n",
    "    image_path = '/Users/iWolfer/Desktop/Pycharm/homework(pds6)/Lessons 60+/66/data/without_mask/3.jpg'  \n",
    "    print(predict_mask(image_path))"
   ]
  },
  {
   "cell_type": "code",
   "execution_count": null,
   "id": "0788310a",
   "metadata": {},
   "outputs": [],
   "source": []
  },
  {
   "cell_type": "code",
   "execution_count": null,
   "id": "0da908c1",
   "metadata": {},
   "outputs": [],
   "source": []
  }
 ],
 "metadata": {
  "kernelspec": {
   "display_name": "Python 3 (ipykernel)",
   "language": "python",
   "name": "python3"
  },
  "language_info": {
   "codemirror_mode": {
    "name": "ipython",
    "version": 3
   },
   "file_extension": ".py",
   "mimetype": "text/x-python",
   "name": "python",
   "nbconvert_exporter": "python",
   "pygments_lexer": "ipython3",
   "version": "3.11.4"
  }
 },
 "nbformat": 4,
 "nbformat_minor": 5
}
