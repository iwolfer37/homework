{
 "cells": [
  {
   "cell_type": "code",
   "execution_count": null,
   "id": "d28fca59",
   "metadata": {},
   "outputs": [],
   "source": [
    "# заготовка до дз ще не доробив... \n",
    "\n",
    "\n",
    "\n",
    "import cv2\n",
    "import numpy as np\n",
    "\n",
    "img1 = cv2.imread('chess_1.jpg')\n",
    "img2 = cv2.imread('chess_2.jpg')\n",
    "\n",
    "# Визначте точки відповідності (зафіксовані на попередньому етапі)\n",
    "pts1 = np.float32([[x1, y1], [x2, y2], [x3, y3], [x4, y4]]) # точки на chess_1\n",
    "pts2 = np.float32([[xp1, yp1], [xp2, yp2], [xp3, yp3], [xp4, yp4]]) # точки на chess_2\n",
    "\n",
    "# Обчисліть матрицю гомографії\n",
    "H, status = cv2.findHomography(pts2, pts1)\n",
    "\n",
    "# Застосуйте гомографічне перетворення\n",
    "transformed_img = cv2.warpPerspective(img2, H, (img1.shape[1], img1.shape[0]))\n",
    "\n",
    "# Збережіть результат\n",
    "cv2.imwrite('transformed_chess_2.jpg', transformed_img)\n",
    "\n"
   ]
  },
  {
   "cell_type": "code",
   "execution_count": null,
   "id": "28950798",
   "metadata": {},
   "outputs": [],
   "source": []
  }
 ],
 "metadata": {
  "kernelspec": {
   "display_name": "Python 3 (ipykernel)",
   "language": "python",
   "name": "python3"
  },
  "language_info": {
   "codemirror_mode": {
    "name": "ipython",
    "version": 3
   },
   "file_extension": ".py",
   "mimetype": "text/x-python",
   "name": "python",
   "nbconvert_exporter": "python",
   "pygments_lexer": "ipython3",
   "version": "3.9.13"
  }
 },
 "nbformat": 4,
 "nbformat_minor": 5
}
