{
 "cells": [
  {
   "cell_type": "code",
   "execution_count": 3,
   "id": "babf44fe",
   "metadata": {},
   "outputs": [
    {
     "name": "stdout",
     "output_type": "stream",
     "text": [
      "Закон розподілу дискретних випадкових величин X і Y:\n",
      "[[0.004096 0.006144 0.009216 0.013824]\n",
      " [0.006144 0.009216 0.013824 0.020736]\n",
      " [0.009216 0.013824 0.020736 0.031104]\n",
      " [0.013824 0.020736 0.031104 0.046656]]\n",
      "Коефіцієнт кореляції r_xy: 0.14806895757046815\n"
     ]
    }
   ],
   "source": [
    "import numpy as np\n",
    "\n",
    "# Ймовірність того, що деталь буде стандартною\n",
    "p_standard = 0.6\n",
    "\n",
    "# Кількість перевірених деталей\n",
    "n = 3\n",
    "\n",
    "# Кількість бракованих деталей\n",
    "X_values = np.arange(0, n + 1)\n",
    "\n",
    "# Кількість стандартних деталей\n",
    "Y_values = np.arange(n, -1, -1)\n",
    "\n",
    "# Ймовірності появи числа бракованих і стандартних деталей\n",
    "p_X = np.array([(1 - p_standard) ** (n - k) * p_standard ** k for k in X_values])\n",
    "p_Y = np.array([(1 - p_standard) ** k * p_standard ** (n - k) for k in Y_values])\n",
    "\n",
    "# Закон розподілу системи двох дискретних випадкових величин X і Y\n",
    "joint_probabilities = np.outer(p_X, p_Y)\n",
    "\n",
    "# Обчислення коефіцієнта кореляції r_xy\n",
    "E_X = np.sum(X_values * p_X)\n",
    "E_Y = np.sum(Y_values * p_Y)\n",
    "Cov_XY = np.sum(np.outer(X_values - E_X, Y_values - E_Y) * joint_probabilities)\n",
    "Var_X = np.sum((X_values - E_X) ** 2 * p_X)\n",
    "Var_Y = np.sum((Y_values - E_Y) ** 2 * p_Y)\n",
    "r_xy = Cov_XY / np.sqrt(Var_X * Var_Y)\n",
    "\n",
    "# Виведення результатів\n",
    "print(\"Закон розподілу дискретних випадкових величин X і Y:\")\n",
    "print(joint_probabilities)\n",
    "print(\"Коефіцієнт кореляції r_xy:\", r_xy)\n"
   ]
  },
  {
   "cell_type": "code",
   "execution_count": 1,
   "id": "6f5af9ec",
   "metadata": {},
   "outputs": [
    {
     "name": "stdout",
     "output_type": "stream",
     "text": [
      "Очікувана норма прибутку для акції X: 2.7\n",
      "Очікувана норма прибутку для акції Y: 4.0\n",
      "Середньоквадратичне відхилення для акції X: 3.7161808352124095\n",
      "Середньоквадратичне відхилення для акції Y: 7.899367063252599\n",
      "Коваріація між акціями X та Y: [ 2.346 21.114  9.384 21.114  2.346]\n",
      "Кореляція між акціями X та Y: [0.07991694 0.7192525  0.31966778 0.7192525  0.07991694]\n"
     ]
    }
   ],
   "source": [
    "import numpy as np\n",
    "\n",
    "# Дані з умов задачі\n",
    "X = np.array([\n",
    "    [10, 0.01, 0.03, 0.02, 0.03, 0.01],\n",
    "    [5, 0.03, 0.09, 0.06, 0.09, 0.03],\n",
    "    [2, 0.02, 0.06, 0.04, 0.06, 0.02],\n",
    "    [1, 0.03, 0.09, 0.06, 0.09, 0.03],\n",
    "    [-5, 0.01, 0.03, 0.02, 0.03, 0.01]\n",
    "])\n",
    "\n",
    "Y = np.array([20, 10, 2, -2, -8])\n",
    "P_X = np.array([0.1, 0.3, 0.2, 0.3, 0.1])\n",
    "P_Y = np.array([0.1, 0.3, 0.2, 0.3, 0.1])\n",
    "\n",
    "# Задача 2.1 Обчислення очікуваної норми прибутку\n",
    "expected_profit_X = np.dot(X[:, 0], P_X)\n",
    "expected_profit_Y = np.dot(Y, P_Y)\n",
    "\n",
    "print(\"Очікувана норма прибутку для акції X:\", expected_profit_X)\n",
    "print(\"Очікувана норма прибутку для акції Y:\", expected_profit_Y)\n",
    "\n",
    "# Задача 2.2 Обчислення середньоквадратичного відхилення\n",
    "std_dev_X = np.sqrt(np.dot((X[:, 0] - expected_profit_X) ** 2, P_X))\n",
    "std_dev_Y = np.sqrt(np.dot((Y - expected_profit_Y) ** 2, P_Y))\n",
    "\n",
    "print(\"Середньоквадратичне відхилення для акції X:\", std_dev_X)\n",
    "print(\"Середньоквадратичне відхилення для акції Y:\", std_dev_Y)\n",
    "\n",
    "# Задача 2.3 Обчислення коваріації та кореляції\n",
    "covariance = np.dot(np.dot(X[:, 0] - expected_profit_X, Y - expected_profit_Y), P_X * P_Y)\n",
    "correlation = covariance / (std_dev_X * std_dev_Y)\n",
    "\n",
    "print(\"Коваріація між акціями X та Y:\", covariance)\n",
    "print(\"Кореляція між акціями X та Y:\", correlation)\n"
   ]
  },
  {
   "cell_type": "code",
   "execution_count": null,
   "id": "a8823022",
   "metadata": {},
   "outputs": [],
   "source": [
    "# Ну chatgpt сильнор допоміг, помилок було багато, здається все правильно тепер"
   ]
  },
  {
   "cell_type": "code",
   "execution_count": null,
   "id": "98c40a01",
   "metadata": {},
   "outputs": [],
   "source": []
  },
  {
   "cell_type": "code",
   "execution_count": null,
   "id": "ff7d81e4",
   "metadata": {},
   "outputs": [],
   "source": []
  },
  {
   "cell_type": "code",
   "execution_count": null,
   "id": "e6960508",
   "metadata": {},
   "outputs": [],
   "source": []
  },
  {
   "cell_type": "code",
   "execution_count": null,
   "id": "160c7418",
   "metadata": {},
   "outputs": [],
   "source": []
  },
  {
   "cell_type": "code",
   "execution_count": null,
   "id": "62db03be",
   "metadata": {},
   "outputs": [],
   "source": []
  },
  {
   "cell_type": "code",
   "execution_count": null,
   "id": "bda13cad",
   "metadata": {},
   "outputs": [],
   "source": []
  }
 ],
 "metadata": {
  "kernelspec": {
   "display_name": "Python 3 (ipykernel)",
   "language": "python",
   "name": "python3"
  },
  "language_info": {
   "codemirror_mode": {
    "name": "ipython",
    "version": 3
   },
   "file_extension": ".py",
   "mimetype": "text/x-python",
   "name": "python",
   "nbconvert_exporter": "python",
   "pygments_lexer": "ipython3",
   "version": "3.9.13"
  }
 },
 "nbformat": 4,
 "nbformat_minor": 5
}
