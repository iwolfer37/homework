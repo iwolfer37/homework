{
 "cells": [
  {
   "cell_type": "code",
   "execution_count": 8,
   "id": "55784454",
   "metadata": {
    "scrolled": true
   },
   "outputs": [],
   "source": [
    "from sklearn.ensemble import StackingClassifier, BaggingClassifier, AdaBoostClassifier\n",
    "from sklearn.tree import DecisionTreeClassifier\n",
    "from sklearn.linear_model import LogisticRegression\n",
    "from sklearn.svm import SVC\n",
    "from xgboost import XGBClassifier\n",
    "from sklearn.datasets import load_breast_cancer\n",
    "from sklearn.model_selection import train_test_split\n",
    "from sklearn.metrics import accuracy_score"
   ]
  },
  {
   "cell_type": "code",
   "execution_count": 9,
   "id": "cdd616bd",
   "metadata": {},
   "outputs": [],
   "source": [
    "# Завантажуємо датасет\n",
    "data = load_breast_cancer()\n",
    "X = data.data\n",
    "y = data.target\n",
    "\n",
    "# Розділяємо дані\n",
    "X_train, X_test, y_train, y_test = train_test_split(X, y, test_size=0.2, random_state=42)"
   ]
  },
  {
   "cell_type": "code",
   "execution_count": 10,
   "id": "2ec9c457",
   "metadata": {},
   "outputs": [
    {
     "name": "stdout",
     "output_type": "stream",
     "text": [
      "Точність StackingClassifier: 0.956140350877193\n",
      "Точність BaggingClassifier: 0.9473684210526315\n"
     ]
    },
    {
     "name": "stderr",
     "output_type": "stream",
     "text": [
      "/opt/anaconda3/lib/python3.9/site-packages/sklearn/ensemble/_base.py:166: FutureWarning: `base_estimator` was renamed to `estimator` in version 1.2 and will be removed in 1.4.\n",
      "  warnings.warn(\n"
     ]
    },
    {
     "name": "stdout",
     "output_type": "stream",
     "text": [
      "Точність AdaBoostClassifier: 0.9736842105263158\n",
      "Точність XGBClassifier: 0.956140350877193\n"
     ]
    }
   ],
   "source": [
    "# Створюємо моделі з вказаними параметрами\n",
    "base_learners = [\n",
    "    ('lr', LogisticRegression(max_iter=3000)),  # При такому значені ітерацій найменше всяких попереджень\n",
    "    ('dt', DecisionTreeClassifier())\n",
    "]\n",
    "stacking_classifier = StackingClassifier(estimators=base_learners, final_estimator=SVC())\n",
    "\n",
    "# Замінив base_estimator на estimator (були попередження про це)\n",
    "bagging_classifier = BaggingClassifier(estimator=DecisionTreeClassifier())\n",
    "\n",
    "adaboost_classifier = AdaBoostClassifier(base_estimator=LogisticRegression(max_iter=3000)) \n",
    "\n",
    "xgb_classifier = XGBClassifier(booster='gbtree')\n",
    "\n",
    "classifiers = [stacking_classifier, bagging_classifier, adaboost_classifier, xgb_classifier]\n",
    "\n",
    "for clf in classifiers:\n",
    "    # Тренуємо модель\n",
    "    clf.fit(X_train, y_train)\n",
    "    y_pred = clf.predict(X_test)\n",
    "    acc = accuracy_score(y_test, y_pred)\n",
    "    print(f\"Точність {clf.__class__.__name__}: {acc}\")"
   ]
  },
  {
   "cell_type": "code",
   "execution_count": null,
   "id": "93089ab8",
   "metadata": {},
   "outputs": [],
   "source": []
  }
 ],
 "metadata": {
  "kernelspec": {
   "display_name": "Python 3 (ipykernel)",
   "language": "python",
   "name": "python3"
  },
  "language_info": {
   "codemirror_mode": {
    "name": "ipython",
    "version": 3
   },
   "file_extension": ".py",
   "mimetype": "text/x-python",
   "name": "python",
   "nbconvert_exporter": "python",
   "pygments_lexer": "ipython3",
   "version": "3.9.13"
  }
 },
 "nbformat": 4,
 "nbformat_minor": 5
}
