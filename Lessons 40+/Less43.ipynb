{
 "cells": [
  {
   "cell_type": "code",
   "execution_count": 1,
   "id": "5ac4b4f2",
   "metadata": {},
   "outputs": [],
   "source": [
    "from sklearn import datasets\n",
    "from sklearn.feature_selection import VarianceThreshold, SelectKBest, chi2, SelectFromModel\n",
    "from sklearn.linear_model import LogisticRegression"
   ]
  },
  {
   "cell_type": "code",
   "execution_count": 2,
   "id": "4f8fa976",
   "metadata": {},
   "outputs": [
    {
     "name": "stdout",
     "output_type": "stream",
     "text": [
      "Оригінальна кількість ознак: 4\n",
      "Кількість ознак після відбору: 4\n"
     ]
    }
   ],
   "source": [
    "iris = datasets.load_iris()\n",
    "X = iris.data\n",
    "y = iris.target\n",
    "\n",
    "# Фільтрація ознак за дисперсією\n",
    "sel_variance_threshold = VarianceThreshold() \n",
    "X_variance_threshold = sel_variance_threshold.fit_transform(X)\n",
    "\n",
    "print(f\"Оригінальна кількість ознак: {X.shape[1]}\")\n",
    "print(f\"Кількість ознак після відбору: {X_variance_threshold.shape[1]}\")"
   ]
  },
  {
   "cell_type": "code",
   "execution_count": 3,
   "id": "ebc9d4c8",
   "metadata": {},
   "outputs": [
    {
     "name": "stdout",
     "output_type": "stream",
     "text": [
      "Кількість ознак після відбору: 2\n"
     ]
    }
   ],
   "source": [
    "# Відбір ознак за критерієм chi2\n",
    "sel_chi2 = SelectKBest(chi2, k=2)  \n",
    "X_chi2 = sel_chi2.fit_transform(X, y)\n",
    "\n",
    "print(f\"Кількість ознак після відбору: {X_chi2.shape[1]}\")"
   ]
  },
  {
   "cell_type": "code",
   "execution_count": 4,
   "id": "d1845a72",
   "metadata": {},
   "outputs": [
    {
     "name": "stdout",
     "output_type": "stream",
     "text": [
      "Кількість ознак після відбору: 3\n"
     ]
    }
   ],
   "source": [
    "# Відбір ознак за допомогою моделі\n",
    "logreg_model = LogisticRegression(solver='liblinear')\n",
    "sel_model = SelectFromModel(estimator=logreg_model)\n",
    "X_logreg = sel_model.fit_transform(X, y)\n",
    "\n",
    "print(f\"Кількість ознак після відбору: {X_logreg.shape[1]}\")"
   ]
  },
  {
   "cell_type": "code",
   "execution_count": null,
   "id": "afcb28c0",
   "metadata": {},
   "outputs": [],
   "source": []
  }
 ],
 "metadata": {
  "kernelspec": {
   "display_name": "Python 3 (ipykernel)",
   "language": "python",
   "name": "python3"
  },
  "language_info": {
   "codemirror_mode": {
    "name": "ipython",
    "version": 3
   },
   "file_extension": ".py",
   "mimetype": "text/x-python",
   "name": "python",
   "nbconvert_exporter": "python",
   "pygments_lexer": "ipython3",
   "version": "3.9.13"
  }
 },
 "nbformat": 4,
 "nbformat_minor": 5
}
