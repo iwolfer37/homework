{
  "nbformat": 4,
  "nbformat_minor": 0,
  "metadata": {
    "colab": {
      "provenance": [],
      "gpuType": "T4",
      "authorship_tag": "ABX9TyOxO7fDuxxyT+EFcERHCABG",
      "include_colab_link": true
    },
    "kernelspec": {
      "name": "python3",
      "display_name": "Python 3"
    },
    "language_info": {
      "name": "python"
    },
    "accelerator": "GPU"
  },
  "cells": [
    {
      "cell_type": "markdown",
      "metadata": {
        "id": "view-in-github",
        "colab_type": "text"
      },
      "source": [
        "<a href=\"https://colab.research.google.com/github/iwolfer37/homework/blob/master/Homework55.ipynb\" target=\"_parent\"><img src=\"https://colab.research.google.com/assets/colab-badge.svg\" alt=\"Open In Colab\"/></a>"
      ]
    },
    {
      "cell_type": "code",
      "execution_count": 1,
      "metadata": {
        "id": "b3KucF7ZyDAU"
      },
      "outputs": [],
      "source": [
        "import torch\n",
        "import torch.nn as nn\n",
        "import torchvision\n",
        "import torchvision.transforms as transforms\n",
        "import matplotlib.pyplot as plt\n",
        "import warnings\n",
        "\n",
        "warnings.filterwarnings(\"ignore\")"
      ]
    },
    {
      "cell_type": "code",
      "source": [
        "# Гіперпараметри\n",
        "z_dim = 100\n",
        "image_dim = 28 * 28\n",
        "lr = 0.0002\n",
        "batch_size = 128\n",
        "num_epochs = 107"
      ],
      "metadata": {
        "id": "UEtM9iakyLh3"
      },
      "execution_count": 2,
      "outputs": []
    },
    {
      "cell_type": "code",
      "source": [
        "# Завантаження даних MNIST\n",
        "transform = transforms.Compose([\n",
        "    transforms.ToTensor(),\n",
        "    transforms.Normalize((0.5,), (0.5,))\n",
        "])\n",
        "\n",
        "train_dataset = torchvision.datasets.MNIST(root='./data', train=True, transform=transform, download=True)\n",
        "train_loader = torch.utils.data.DataLoader(dataset=train_dataset, batch_size=batch_size, shuffle=True)"
      ],
      "metadata": {
        "colab": {
          "base_uri": "https://localhost:8080/"
        },
        "id": "Zl1bvCKpyM18",
        "outputId": "813d0107-4a0b-408e-cb28-210ef61d484a"
      },
      "execution_count": 3,
      "outputs": [
        {
          "output_type": "stream",
          "name": "stdout",
          "text": [
            "Downloading http://yann.lecun.com/exdb/mnist/train-images-idx3-ubyte.gz\n",
            "Downloading http://yann.lecun.com/exdb/mnist/train-images-idx3-ubyte.gz to ./data/MNIST/raw/train-images-idx3-ubyte.gz\n"
          ]
        },
        {
          "output_type": "stream",
          "name": "stderr",
          "text": [
            "100%|██████████| 9912422/9912422 [00:00<00:00, 102957577.61it/s]\n"
          ]
        },
        {
          "output_type": "stream",
          "name": "stdout",
          "text": [
            "Extracting ./data/MNIST/raw/train-images-idx3-ubyte.gz to ./data/MNIST/raw\n",
            "\n",
            "Downloading http://yann.lecun.com/exdb/mnist/train-labels-idx1-ubyte.gz\n",
            "Downloading http://yann.lecun.com/exdb/mnist/train-labels-idx1-ubyte.gz to ./data/MNIST/raw/train-labels-idx1-ubyte.gz\n"
          ]
        },
        {
          "output_type": "stream",
          "name": "stderr",
          "text": [
            "100%|██████████| 28881/28881 [00:00<00:00, 113422934.29it/s]\n"
          ]
        },
        {
          "output_type": "stream",
          "name": "stdout",
          "text": [
            "Extracting ./data/MNIST/raw/train-labels-idx1-ubyte.gz to ./data/MNIST/raw\n",
            "\n",
            "Downloading http://yann.lecun.com/exdb/mnist/t10k-images-idx3-ubyte.gz\n",
            "Downloading http://yann.lecun.com/exdb/mnist/t10k-images-idx3-ubyte.gz to ./data/MNIST/raw/t10k-images-idx3-ubyte.gz\n"
          ]
        },
        {
          "output_type": "stream",
          "name": "stderr",
          "text": [
            "100%|██████████| 1648877/1648877 [00:00<00:00, 38604561.60it/s]\n"
          ]
        },
        {
          "output_type": "stream",
          "name": "stdout",
          "text": [
            "Extracting ./data/MNIST/raw/t10k-images-idx3-ubyte.gz to ./data/MNIST/raw\n",
            "\n",
            "Downloading http://yann.lecun.com/exdb/mnist/t10k-labels-idx1-ubyte.gz\n",
            "Downloading http://yann.lecun.com/exdb/mnist/t10k-labels-idx1-ubyte.gz to ./data/MNIST/raw/t10k-labels-idx1-ubyte.gz\n"
          ]
        },
        {
          "output_type": "stream",
          "name": "stderr",
          "text": [
            "100%|██████████| 4542/4542 [00:00<00:00, 23753776.52it/s]\n"
          ]
        },
        {
          "output_type": "stream",
          "name": "stdout",
          "text": [
            "Extracting ./data/MNIST/raw/t10k-labels-idx1-ubyte.gz to ./data/MNIST/raw\n",
            "\n"
          ]
        }
      ]
    },
    {
      "cell_type": "code",
      "source": [
        "# Генератор\n",
        "class Generator(nn.Module):\n",
        "    def __init__(self):\n",
        "        super(Generator, self).__init__()\n",
        "        self.model = nn.Sequential(\n",
        "            nn.Linear(z_dim, 128),\n",
        "            nn.ReLU(),\n",
        "            nn.Linear(128, 256),\n",
        "            nn.ReLU(),\n",
        "            nn.Linear(256, image_dim),\n",
        "            nn.Tanh()\n",
        "        )\n",
        "    def forward(self, x):\n",
        "        return self.model(x)"
      ],
      "metadata": {
        "id": "Iyt10HPgyQ6x"
      },
      "execution_count": 4,
      "outputs": []
    },
    {
      "cell_type": "code",
      "source": [
        "# Дискримінатор\n",
        "class Discriminator(nn.Module):\n",
        "    def __init__(self):\n",
        "        super(Discriminator, self).__init__()\n",
        "        self.model = nn.Sequential(\n",
        "            nn.Linear(image_dim, 256),\n",
        "            nn.LeakyReLU(0.2),\n",
        "            nn.Linear(256, 128),\n",
        "            nn.LeakyReLU(0.2),\n",
        "            nn.Linear(128, 1),\n",
        "            nn.Sigmoid()\n",
        "        )\n",
        "    def forward(self, x):\n",
        "        return self.model(x)"
      ],
      "metadata": {
        "id": "9nj4SPnzyV1c"
      },
      "execution_count": 5,
      "outputs": []
    },
    {
      "cell_type": "code",
      "source": [
        "# Ініціалізація моделей та оптимізаторів\n",
        "generator = Generator()\n",
        "discriminator = Discriminator()\n",
        "criterion = nn.BCELoss()\n",
        "optimizer_g = torch.optim.Adam(generator.parameters(), lr=lr)\n",
        "optimizer_d = torch.optim.Adam(discriminator.parameters(), lr=lr)"
      ],
      "metadata": {
        "id": "y8ORdg2ayY_h"
      },
      "execution_count": 6,
      "outputs": []
    },
    {
      "cell_type": "code",
      "source": [
        "# Навчання\n",
        "for epoch in range(num_epochs):\n",
        "    for real_images, _ in train_loader:\n",
        "        batch_size = real_images.shape[0]\n",
        "        real_labels = torch.ones(batch_size, 1)\n",
        "        fake_labels = torch.zeros(batch_size, 1)\n",
        "\n",
        "        # Навчання дискримінатора\n",
        "        optimizer_d.zero_grad()\n",
        "        real_outputs = discriminator(real_images.view(batch_size, -1))\n",
        "        real_loss = criterion(real_outputs, real_labels)\n",
        "\n",
        "        z = torch.randn(batch_size, z_dim)\n",
        "        fake_images = generator(z)\n",
        "        fake_outputs = discriminator(fake_images.detach())\n",
        "        fake_loss = criterion(fake_outputs, fake_labels)\n",
        "\n",
        "        d_loss = real_loss + fake_loss\n",
        "        d_loss.backward()\n",
        "        optimizer_d.step()\n",
        "\n",
        "        # Навчання генератора\n",
        "        optimizer_g.zero_grad()\n",
        "        fake_outputs = discriminator(fake_images)\n",
        "        g_loss = criterion(fake_outputs, real_labels)\n",
        "        g_loss.backward()\n",
        "        optimizer_g.step()\n",
        "\n",
        "    print(f\"Епоха [{epoch+1}/{num_epochs}], Дискримінатора Втрати: {d_loss.item():.4f}, Генератор Втрати: {g_loss.item():.4f}\")"
      ],
      "metadata": {
        "colab": {
          "base_uri": "https://localhost:8080/"
        },
        "id": "QdPwTFvVyi9G",
        "outputId": "ef7f0b72-1947-46e1-909f-da204f08d455"
      },
      "execution_count": 7,
      "outputs": [
        {
          "output_type": "stream",
          "name": "stdout",
          "text": [
            "Епоха [1/107], Дискримінатора Втрати: 0.0564, Генератор Втрати: 4.6968\n",
            "Епоха [2/107], Дискримінатора Втрати: 0.0540, Генератор Втрати: 4.4932\n",
            "Епоха [3/107], Дискримінатора Втрати: 0.1157, Генератор Втрати: 5.7199\n",
            "Епоха [4/107], Дискримінатора Втрати: 0.7055, Генератор Втрати: 3.6065\n",
            "Епоха [5/107], Дискримінатора Втрати: 0.4859, Генератор Втрати: 3.3147\n",
            "Епоха [6/107], Дискримінатора Втрати: 0.3560, Генератор Втрати: 2.2746\n",
            "Епоха [7/107], Дискримінатора Втрати: 0.9047, Генератор Втрати: 1.9014\n",
            "Епоха [8/107], Дискримінатора Втрати: 0.3395, Генератор Втрати: 2.2339\n",
            "Епоха [9/107], Дискримінатора Втрати: 0.4812, Генератор Втрати: 2.5688\n",
            "Епоха [10/107], Дискримінатора Втрати: 0.3508, Генератор Втрати: 3.3136\n",
            "Епоха [11/107], Дискримінатора Втрати: 0.2167, Генератор Втрати: 4.9956\n",
            "Епоха [12/107], Дискримінатора Втрати: 0.4895, Генератор Втрати: 3.1622\n",
            "Епоха [13/107], Дискримінатора Втрати: 0.2755, Генератор Втрати: 3.0258\n",
            "Епоха [14/107], Дискримінатора Втрати: 0.2756, Генератор Втрати: 5.9255\n",
            "Епоха [15/107], Дискримінатора Втрати: 0.1065, Генератор Втрати: 4.0871\n",
            "Епоха [16/107], Дискримінатора Втрати: 0.4224, Генератор Втрати: 4.9611\n",
            "Епоха [17/107], Дискримінатора Втрати: 0.1440, Генератор Втрати: 5.4807\n",
            "Епоха [18/107], Дискримінатора Втрати: 0.1687, Генератор Втрати: 5.9338\n",
            "Епоха [19/107], Дискримінатора Втрати: 0.1209, Генератор Втрати: 7.1160\n",
            "Епоха [20/107], Дискримінатора Втрати: 0.3056, Генератор Втрати: 3.2838\n",
            "Епоха [21/107], Дискримінатора Втрати: 0.1555, Генератор Втрати: 4.4358\n",
            "Епоха [22/107], Дискримінатора Втрати: 0.3762, Генератор Втрати: 3.8989\n",
            "Епоха [23/107], Дискримінатора Втрати: 0.2155, Генератор Втрати: 4.2241\n",
            "Епоха [24/107], Дискримінатора Втрати: 0.1505, Генератор Втрати: 4.5884\n",
            "Епоха [25/107], Дискримінатора Втрати: 0.2635, Генератор Втрати: 4.9330\n",
            "Епоха [26/107], Дискримінатора Втрати: 0.2005, Генератор Втрати: 5.1828\n",
            "Епоха [27/107], Дискримінатора Втрати: 0.1739, Генератор Втрати: 4.3589\n",
            "Епоха [28/107], Дискримінатора Втрати: 0.1522, Генератор Втрати: 4.7476\n",
            "Епоха [29/107], Дискримінатора Втрати: 0.2934, Генератор Втрати: 6.2228\n",
            "Епоха [30/107], Дискримінатора Втрати: 0.2903, Генератор Втрати: 6.0771\n",
            "Епоха [31/107], Дискримінатора Втрати: 0.1853, Генератор Втрати: 4.2701\n",
            "Епоха [32/107], Дискримінатора Втрати: 0.2210, Генератор Втрати: 4.6351\n",
            "Епоха [33/107], Дискримінатора Втрати: 0.1785, Генератор Втрати: 5.0565\n",
            "Епоха [34/107], Дискримінатора Втрати: 0.1227, Генератор Втрати: 7.6829\n",
            "Епоха [35/107], Дискримінатора Втрати: 0.2445, Генератор Втрати: 4.2777\n",
            "Епоха [36/107], Дискримінатора Втрати: 0.1724, Генератор Втрати: 4.3930\n",
            "Епоха [37/107], Дискримінатора Втрати: 0.2058, Генератор Втрати: 5.7761\n",
            "Епоха [38/107], Дискримінатора Втрати: 0.5923, Генератор Втрати: 3.6273\n",
            "Епоха [39/107], Дискримінатора Втрати: 0.2308, Генератор Втрати: 6.1183\n",
            "Епоха [40/107], Дискримінатора Втрати: 0.2424, Генератор Втрати: 3.5573\n",
            "Епоха [41/107], Дискримінатора Втрати: 0.3119, Генератор Втрати: 4.8488\n",
            "Епоха [42/107], Дискримінатора Втрати: 0.3978, Генератор Втрати: 3.9316\n",
            "Епоха [43/107], Дискримінатора Втрати: 0.1883, Генератор Втрати: 4.8361\n",
            "Епоха [44/107], Дискримінатора Втрати: 0.3208, Генератор Втрати: 3.2535\n",
            "Епоха [45/107], Дискримінатора Втрати: 0.1797, Генератор Втрати: 4.1402\n",
            "Епоха [46/107], Дискримінатора Втрати: 0.2397, Генератор Втрати: 5.6625\n",
            "Епоха [47/107], Дискримінатора Втрати: 0.1562, Генератор Втрати: 4.6837\n",
            "Епоха [48/107], Дискримінатора Втрати: 0.3556, Генератор Втрати: 3.1913\n",
            "Епоха [49/107], Дискримінатора Втрати: 0.2542, Генератор Втрати: 3.8573\n",
            "Епоха [50/107], Дискримінатора Втрати: 0.3513, Генератор Втрати: 3.2812\n",
            "Епоха [51/107], Дискримінатора Втрати: 0.2259, Генератор Втрати: 4.7660\n",
            "Епоха [52/107], Дискримінатора Втрати: 0.4861, Генератор Втрати: 2.6401\n",
            "Епоха [53/107], Дискримінатора Втрати: 0.3959, Генератор Втрати: 4.7052\n",
            "Епоха [54/107], Дискримінатора Втрати: 0.5169, Генератор Втрати: 3.3757\n",
            "Епоха [55/107], Дискримінатора Втрати: 0.3139, Генератор Втрати: 4.4896\n",
            "Епоха [56/107], Дискримінатора Втрати: 0.4637, Генератор Втрати: 3.6731\n",
            "Епоха [57/107], Дискримінатора Втрати: 0.6126, Генератор Втрати: 2.6481\n",
            "Епоха [58/107], Дискримінатора Втрати: 0.4129, Генератор Втрати: 3.5193\n",
            "Епоха [59/107], Дискримінатора Втрати: 0.4119, Генератор Втрати: 3.2645\n",
            "Епоха [60/107], Дискримінатора Втрати: 0.3656, Генератор Втрати: 4.0516\n",
            "Епоха [61/107], Дискримінатора Втрати: 0.3251, Генератор Втрати: 4.0115\n",
            "Епоха [62/107], Дискримінатора Втрати: 0.5219, Генератор Втрати: 3.8173\n",
            "Епоха [63/107], Дискримінатора Втрати: 0.4901, Генератор Втрати: 3.9445\n",
            "Епоха [64/107], Дискримінатора Втрати: 0.4990, Генератор Втрати: 2.4572\n",
            "Епоха [65/107], Дискримінатора Втрати: 0.4567, Генератор Втрати: 3.3652\n",
            "Епоха [66/107], Дискримінатора Втрати: 0.5748, Генератор Втрати: 3.3389\n",
            "Епоха [67/107], Дискримінатора Втрати: 0.5026, Генератор Втрати: 2.8040\n",
            "Епоха [68/107], Дискримінатора Втрати: 0.6977, Генератор Втрати: 2.4477\n",
            "Епоха [69/107], Дискримінатора Втрати: 0.7165, Генератор Втрати: 2.5220\n",
            "Епоха [70/107], Дискримінатора Втрати: 0.3951, Генератор Втрати: 3.4791\n",
            "Епоха [71/107], Дискримінатора Втрати: 0.4702, Генератор Втрати: 2.5230\n",
            "Епоха [72/107], Дискримінатора Втрати: 0.4060, Генератор Втрати: 2.8271\n",
            "Епоха [73/107], Дискримінатора Втрати: 0.8717, Генератор Втрати: 2.9717\n",
            "Епоха [74/107], Дискримінатора Втрати: 0.3893, Генератор Втрати: 3.3430\n",
            "Епоха [75/107], Дискримінатора Втрати: 0.3506, Генератор Втрати: 4.3093\n",
            "Епоха [76/107], Дискримінатора Втрати: 0.2409, Генератор Втрати: 4.1563\n",
            "Епоха [77/107], Дискримінатора Втрати: 0.3812, Генератор Втрати: 3.7656\n",
            "Епоха [78/107], Дискримінатора Втрати: 0.2541, Генератор Втрати: 4.6544\n",
            "Епоха [79/107], Дискримінатора Втрати: 0.4849, Генератор Втрати: 2.8155\n",
            "Епоха [80/107], Дискримінатора Втрати: 0.6006, Генератор Втрати: 2.9308\n",
            "Епоха [81/107], Дискримінатора Втрати: 0.7786, Генератор Втрати: 2.1163\n",
            "Епоха [82/107], Дискримінатора Втрати: 0.6324, Генератор Втрати: 2.1009\n",
            "Епоха [83/107], Дискримінатора Втрати: 0.4547, Генератор Втрати: 3.1588\n",
            "Епоха [84/107], Дискримінатора Втрати: 0.4796, Генератор Втрати: 2.7655\n",
            "Епоха [85/107], Дискримінатора Втрати: 0.6220, Генератор Втрати: 2.6891\n",
            "Епоха [86/107], Дискримінатора Втрати: 0.5200, Генератор Втрати: 2.6648\n",
            "Епоха [87/107], Дискримінатора Втрати: 0.7971, Генератор Втрати: 2.1463\n",
            "Епоха [88/107], Дискримінатора Втрати: 0.5937, Генератор Втрати: 2.8192\n",
            "Епоха [89/107], Дискримінатора Втрати: 0.4193, Генератор Втрати: 3.2323\n",
            "Епоха [90/107], Дискримінатора Втрати: 0.6603, Генератор Втрати: 2.3553\n",
            "Епоха [91/107], Дискримінатора Втрати: 0.6282, Генератор Втрати: 2.0830\n",
            "Епоха [92/107], Дискримінатора Втрати: 0.8091, Генератор Втрати: 2.2176\n",
            "Епоха [93/107], Дискримінатора Втрати: 0.5483, Генератор Втрати: 2.8110\n",
            "Епоха [94/107], Дискримінатора Втрати: 0.5578, Генератор Втрати: 2.5371\n",
            "Епоха [95/107], Дискримінатора Втрати: 0.6176, Генератор Втрати: 2.9582\n",
            "Епоха [96/107], Дискримінатора Втрати: 0.9157, Генератор Втрати: 1.7576\n",
            "Епоха [97/107], Дискримінатора Втрати: 0.6155, Генератор Втрати: 2.6715\n",
            "Епоха [98/107], Дискримінатора Втрати: 0.5437, Генератор Втрати: 2.7639\n",
            "Епоха [99/107], Дискримінатора Втрати: 0.6997, Генератор Втрати: 2.2207\n",
            "Епоха [100/107], Дискримінатора Втрати: 0.6499, Генератор Втрати: 2.1301\n",
            "Епоха [101/107], Дискримінатора Втрати: 0.7309, Генератор Втрати: 2.2422\n",
            "Епоха [102/107], Дискримінатора Втрати: 0.8685, Генератор Втрати: 2.3274\n",
            "Епоха [103/107], Дискримінатора Втрати: 0.8329, Генератор Втрати: 2.0007\n",
            "Епоха [104/107], Дискримінатора Втрати: 0.6221, Генератор Втрати: 1.9972\n",
            "Епоха [105/107], Дискримінатора Втрати: 0.9851, Генератор Втрати: 1.8181\n",
            "Епоха [106/107], Дискримінатора Втрати: 0.8177, Генератор Втрати: 2.1562\n",
            "Епоха [107/107], Дискримінатора Втрати: 0.9028, Генератор Втрати: 2.0417\n"
          ]
        }
      ]
    },
    {
      "cell_type": "code",
      "source": [
        "# Генерація та відображення зображень\n",
        "z = torch.randn(10, z_dim)\n",
        "generated_images = generator(z)\n",
        "\n",
        "fig, axes = plt.subplots(1, 10, figsize=(10, 1))\n",
        "for i in range(10):\n",
        "    axes[i].imshow(generated_images[i].detach().view(28, 28), cmap='gray')\n",
        "    axes[i].axis('off')\n",
        "plt.show()"
      ],
      "metadata": {
        "colab": {
          "base_uri": "https://localhost:8080/",
          "height": 102
        },
        "id": "sTpuC4vCymJw",
        "outputId": "3af20f1a-3fe5-499c-8c60-49b1ee1c343c"
      },
      "execution_count": 8,
      "outputs": [
        {
          "output_type": "display_data",
          "data": {
            "text/plain": [
              "<Figure size 1000x100 with 10 Axes>"
            ],
            "image/png": "[encoded data removed]"
          },
          "metadata": {}
        }
      ]
    },
    {
      "cell_type": "code",
      "source": [],
      "metadata": {
        "id": "OIZDUgpG7637"
      },
      "execution_count": null,
      "outputs": []
    }
  ]
}