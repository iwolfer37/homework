{
 "cells": [
  {
   "cell_type": "code",
   "execution_count": 5,
   "id": "babf44fe",
   "metadata": {},
   "outputs": [
    {
     "name": "stdout",
     "output_type": "stream",
     "text": [
      "Математичне сподівання E(x):  7.0\n"
     ]
    }
   ],
   "source": [
    "# Завдання 1\n",
    "import math\n",
    "\n",
    "# Задамо параметри\n",
    "n = 10000  \n",
    "p = 0.0007  \n",
    "\n",
    "# Обчислимо математичне сподівання\n",
    "E_x = n * p\n",
    "print(\"Математичне сподівання E(x): \", E_x)"
   ]
  },
  {
   "cell_type": "code",
   "execution_count": 6,
   "id": "6f5af9ec",
   "metadata": {},
   "outputs": [
    {
     "name": "stdout",
     "output_type": "stream",
     "text": [
      "Середнє квадратичне відхилення S(X):  2.644825135996707\n"
     ]
    }
   ],
   "source": [
    "# Обчислимо дисперсію\n",
    "Var_X = n * p * (1 - p)\n",
    "\n",
    "# Обчислимо середнє квадратичне відхилення\n",
    "S_X = math.sqrt(Var_X)\n",
    "print(\"Середнє квадратичне відхилення S(X): \", S_X)"
   ]
  },
  {
   "cell_type": "code",
   "execution_count": 7,
   "id": "a8823022",
   "metadata": {},
   "outputs": [
    {
     "name": "stdout",
     "output_type": "stream",
     "text": [
      "Дисперсія D(X):  0.9999\n",
      "Середнє квадратичне відхилення S(X):  0.9999499987499375\n"
     ]
    }
   ],
   "source": [
    "# Завжання 2\n",
    "import math\n",
    "\n",
    "# Задамо параметри\n",
    "n = 10000  # кількість чоловіків\n",
    "p = 0.0001  # ймовірність, що чоловік не був на рибалці\n",
    "\n",
    "# Обчислимо дисперсію\n",
    "Q_X = n * p * (1 - p)\n",
    "print(\"Дисперсія D(X): \", Q_X)\n",
    "\n",
    "# Обчислимо середнє квадратичне відхилення\n",
    "S_X = math.sqrt(D_X)\n",
    "print(\"Середнє квадратичне відхилення S(X): \", S_X)\n"
   ]
  },
  {
   "cell_type": "code",
   "execution_count": null,
   "id": "98c40a01",
   "metadata": {},
   "outputs": [],
   "source": []
  },
  {
   "cell_type": "code",
   "execution_count": null,
   "id": "ff7d81e4",
   "metadata": {},
   "outputs": [],
   "source": []
  },
  {
   "cell_type": "code",
   "execution_count": null,
   "id": "e6960508",
   "metadata": {},
   "outputs": [],
   "source": []
  },
  {
   "cell_type": "code",
   "execution_count": null,
   "id": "160c7418",
   "metadata": {},
   "outputs": [],
   "source": []
  },
  {
   "cell_type": "code",
   "execution_count": null,
   "id": "62db03be",
   "metadata": {},
   "outputs": [],
   "source": []
  },
  {
   "cell_type": "code",
   "execution_count": null,
   "id": "bda13cad",
   "metadata": {},
   "outputs": [],
   "source": []
  }
 ],
 "metadata": {
  "kernelspec": {
   "display_name": "Python 3 (ipykernel)",
   "language": "python",
   "name": "python3"
  },
  "language_info": {
   "codemirror_mode": {
    "name": "ipython",
    "version": 3
   },
   "file_extension": ".py",
   "mimetype": "text/x-python",
   "name": "python",
   "nbconvert_exporter": "python",
   "pygments_lexer": "ipython3",
   "version": "3.9.13"
  }
 },
 "nbformat": 4,
 "nbformat_minor": 5
}
