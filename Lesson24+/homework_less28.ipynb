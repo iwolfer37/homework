{
 "cells": [
  {
   "cell_type": "code",
   "execution_count": 11,
   "id": "babf44fe",
   "metadata": {},
   "outputs": [],
   "source": [
    "# Завдання 1\n",
    "import numpy as np\n",
    "import math\n",
    "from scipy.stats import chi2\n",
    "\n",
    "# вхідні дані\n",
    "xi = np.array([1, 2, 4, 6, 7])\n",
    "ni = np.array([2, 3, 10, 3, 2])\n",
    "n = np.sum(ni)  # об'єм вибірки"
   ]
  },
  {
   "cell_type": "code",
   "execution_count": 12,
   "id": "6f5af9ec",
   "metadata": {},
   "outputs": [],
   "source": [
    "# обчислення сер. значення\n",
    "E = np.sum(xi * ni) / n\n",
    "\n",
    "# обчислення вибіркової дисперсії\n",
    "s_squared = np.sum((xi**2 * ni) / n) - E**2\n",
    "\n",
    "# ступінь свободи\n",
    "df = n - 1"
   ]
  },
  {
   "cell_type": "code",
   "execution_count": 13,
   "id": "a8823022",
   "metadata": {},
   "outputs": [
    {
     "name": "stdout",
     "output_type": "stream",
     "text": [
      "Інтервальна оцінка для середнього квадратичного відхилення:  [1.317208   2.52978428]\n"
     ]
    }
   ],
   "source": [
    "# границі для розподілу хі-квадрат\n",
    "lower = chi2.ppf(0.025, df)  # 2.5% перцентиль\n",
    "upper = chi2.ppf(0.975, df)  # 97.5% перцентиль\n",
    "\n",
    "# інтервальна оцінка для дисперсії\n",
    "interval_variance = [s_squared * df / upper, s_squared * df / lower]\n",
    "\n",
    "# інтервальна оцінка для середнього квадратичного відхилення\n",
    "interval_std_dev = np.sqrt(interval_variance)\n",
    "\n",
    "print('Інтервальна оцінка для середнього квадратичного відхилення: ', interval_std_dev)\n"
   ]
  },
  {
   "cell_type": "code",
   "execution_count": 14,
   "id": "98c40a01",
   "metadata": {},
   "outputs": [],
   "source": [
    "# Завдання 2 вхідні дані\n",
    "m = 40\n",
    "n = 100\n",
    "conf_level = 0.95\n",
    "z_score = 1.96 # табличні дані \n",
    "\n",
    "p = m / n\n",
    "\n",
    "# обчислення інтервалу довіри\n",
    "interval = z_score * math.sqrt((p * (1 - p)) / n)\n",
    "lower_bound = p - interval\n",
    "upper_bound = p + interval"
   ]
  },
  {
   "cell_type": "code",
   "execution_count": 15,
   "id": "ff7d81e4",
   "metadata": {},
   "outputs": [
    {
     "name": "stdout",
     "output_type": "stream",
     "text": [
      "Інтервальна оцінка для ймовірності: (0.30398000208289944, 0.4960199979171006)\n"
     ]
    }
   ],
   "source": [
    "print(f\"Інтервальна оцінка для ймовірності: ({lower_bound}, {upper_bound})\")\n"
   ]
  },
  {
   "cell_type": "code",
   "execution_count": 17,
   "id": "e6960508",
   "metadata": {},
   "outputs": [
    {
     "name": "stdout",
     "output_type": "stream",
     "text": [
      "Мінімальний об'єм вибірки: 166\n"
     ]
    }
   ],
   "source": [
    "# вхідні дані (завдання 3)\n",
    "z_score = 2.576  # табличні дані для рівня довіри 0.99\n",
    "s = 3  # середнє квадратичне відхилення (сігма)\n",
    "d = 0.6  # точність (дельта)\n",
    "\n",
    "# обчислення розміру вибірки\n",
    "n = math.ceil((z_score * s / d) ** 2)\n",
    "\n",
    "print(f\"Мінімальний об'єм вибірки: {n}\")\n"
   ]
  }
 ],
 "metadata": {
  "kernelspec": {
   "display_name": "Python 3 (ipykernel)",
   "language": "python",
   "name": "python3"
  },
  "language_info": {
   "codemirror_mode": {
    "name": "ipython",
    "version": 3
   },
   "file_extension": ".py",
   "mimetype": "text/x-python",
   "name": "python",
   "nbconvert_exporter": "python",
   "pygments_lexer": "ipython3",
   "version": "3.9.13"
  }
 },
 "nbformat": 4,
 "nbformat_minor": 5
}
