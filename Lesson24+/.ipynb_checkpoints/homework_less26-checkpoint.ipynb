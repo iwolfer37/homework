{
 "cells": [
  {
   "cell_type": "code",
   "execution_count": 7,
   "id": "a8823022",
   "metadata": {},
   "outputs": [
    {
     "name": "stdout",
     "output_type": "stream",
     "text": [
      "Ймовірність того, що телики, які витримають гар. термін, буде в межах від 85 до 95 (включно) дорівнює 0.9363983902254392\n"
     ]
    }
   ],
   "source": [
    "# 1 завдання\n",
    "from scipy.stats import binom\n",
    "\n",
    "n = 100\n",
    "p = 0.9\n",
    "pr = sum(binom.pmf(k, n, p) for k in range(85, 96))\n",
    "\n",
    "print(f\"Ймовірність того, що телики, які витримають гар. термін, буде в межах від 85 до 95 (включно) дорівнює {prob}\")\n"
   ]
  },
  {
   "cell_type": "code",
   "execution_count": 3,
   "id": "babf44fe",
   "metadata": {},
   "outputs": [],
   "source": [
    "# 2 завданя\n",
    "import numpy as np\n",
    "from collections import Counter\n",
    "\n",
    "data = np.array([10, 13, 10, 9, 9, 12, 12, 6, 7, 9, 8, 9, 11, 9, 14, 13, 9, 8, 8, 7, 10, 10, 11, 11, 11, 12, 8, 7 ,9, 10, 14, 13, 8, 8, 9, 10, 11, 11, 12, 12])\n",
    "\n",
    "counter = Counter(data)\n"
   ]
  },
  {
   "cell_type": "code",
   "execution_count": 4,
   "id": "6f5af9ec",
   "metadata": {},
   "outputs": [],
   "source": [
    "# Сортуємо\n",
    "values = np.array(sorted(list(counter.keys())))\n",
    "\n",
    "# Розрахунок частот\n",
    "freq = np.array([counter[val] for val in values])\n",
    "\n",
    "# Розрахунок емпіричної функції\n",
    "cumulative_freq = np.cumsum(freq) / len(data)"
   ]
  },
  {
   "cell_type": "code",
   "execution_count": 5,
   "id": "98c40a01",
   "metadata": {},
   "outputs": [
    {
     "name": "stdout",
     "output_type": "stream",
     "text": [
      "Значення 6: частота 1, F*(x) 0.025\n",
      "Значення 7: частота 3, F*(x) 0.1\n",
      "Значення 8: частота 6, F*(x) 0.25\n",
      "Значення 9: частота 8, F*(x) 0.45\n",
      "Значення 10: частота 6, F*(x) 0.6\n",
      "Значення 11: частота 6, F*(x) 0.75\n",
      "Значення 12: частота 5, F*(x) 0.875\n",
      "Значення 13: частота 3, F*(x) 0.95\n",
      "Значення 14: частота 2, F*(x) 1.0\n",
      "Мода вибірки: 6\n",
      "Медіана вибірки: 10.0\n"
     ]
    }
   ],
   "source": [
    "# Вивід дискретного статистичного розподілу\n",
    "for val, freq, cum_freq in zip(values, freq, cumulative_freq):\n",
    "    print(f'Значення {val}: частота {freq}, F*(x) {cum_freq}')\n",
    "\n",
    "# Розрахунок моди\n",
    "mode = values[np.argmax(freq)]\n",
    "print(f'Мода вибірки: {mode}')\n",
    "\n",
    "# Розрахунок медіани\n",
    "median = np.median(data)\n",
    "print(f'Медіана вибірки: {median}')\n",
    "\n",
    "\n"
   ]
  }
 ],
 "metadata": {
  "kernelspec": {
   "display_name": "Python 3 (ipykernel)",
   "language": "python",
   "name": "python3"
  },
  "language_info": {
   "codemirror_mode": {
    "name": "ipython",
    "version": 3
   },
   "file_extension": ".py",
   "mimetype": "text/x-python",
   "name": "python",
   "nbconvert_exporter": "python",
   "pygments_lexer": "ipython3",
   "version": "3.9.13"
  }
 },
 "nbformat": 4,
 "nbformat_minor": 5
}
