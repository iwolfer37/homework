{
 "cells": [
  {
   "cell_type": "code",
   "execution_count": 37,
   "id": "ff831dd5",
   "metadata": {},
   "outputs": [],
   "source": [
    "import numpy as np\n",
    "\n",
    "class Matrix:\n",
    "    def __init__(self, matrix):\n",
    "        self.matrix = np.array(matrix)\n",
    "\n",
    "    def __str__(self):\n",
    "        return str(self.matrix)\n",
    "\n",
    "    def __add__(self, other):\n",
    "        if isinstance(other, Matrix):\n",
    "            return Matrix(self.matrix + other.matrix)\n",
    "        elif isinstance(other, (int, float)):\n",
    "            return Matrix(self.matrix + other)\n",
    "        else:\n",
    "            raise TypeError(\"Непідтримуваний тип операції для +: 'Matrix' та '{}'\".format(type(other)))\n",
    "\n",
    "    def __sub__(self, other):\n",
    "        if isinstance(other, Matrix):\n",
    "            return Matrix(self.matrix - other.matrix)\n",
    "        elif isinstance(other, (int, float)):\n",
    "            return Matrix(self.matrix - other)\n",
    "        else:\n",
    "            raise TypeError(\"Непідтримуваний тип операції для -: 'Matrix' та '{}'\".format(type(other)))\n",
    "\n",
    "    def __mul__(self, other):\n",
    "        if isinstance(other, Matrix):\n",
    "            return Matrix(np.dot(self.matrix, other.matrix))\n",
    "        elif isinstance(other, (int, float)):\n",
    "            return Matrix(self.matrix * other)\n",
    "        else:\n",
    "            raise TypeError(\"Непідтримуваний тип операції для *: 'Matrix' та '{}'\".format(type(other)))\n",
    "\n",
    "    def transpose(self):\n",
    "        return Matrix(self.matrix.T)"
   ]
  },
  {
   "cell_type": "code",
   "execution_count": 46,
   "id": "babf44fe",
   "metadata": {},
   "outputs": [],
   "source": [
    "test_matrix = [[1, 2, 3], [4, 5, 6], [7, 8, 9]]\n",
    "test_matrix_obj = Matrix(test_matrix)"
   ]
  },
  {
   "cell_type": "code",
   "execution_count": 53,
   "id": "a8823022",
   "metadata": {},
   "outputs": [],
   "source": [
    "matrix1 = [[1, 3, 5], [7, 9, 11], [13, 15, 17]]\n",
    "matrix2 = [[0, 9, 8], [7, 6, 5], [4, 3, 2]]\n",
    "matrix1_x = Matrix(matrix1)\n",
    "matrix2_y = Matrix(matrix2)"
   ]
  },
  {
   "cell_type": "code",
   "execution_count": 54,
   "id": "98c40a01",
   "metadata": {},
   "outputs": [
    {
     "name": "stdout",
     "output_type": "stream",
     "text": [
      "[[ 1 12 13]\n",
      " [14 15 16]\n",
      " [17 18 19]]\n"
     ]
    }
   ],
   "source": [
    "matrix_sum = matrix1_x + matrix2_y\n",
    "print(matrix_sum)"
   ]
  },
  {
   "cell_type": "code",
   "execution_count": 55,
   "id": "ff7d81e4",
   "metadata": {},
   "outputs": [
    {
     "name": "stdout",
     "output_type": "stream",
     "text": [
      "[[ 2  5  8]\n",
      " [11 14 17]\n",
      " [20 23 26]]\n"
     ]
    }
   ],
   "source": [
    "matrix_sum_print = matrix1_x + test_matrix_obj\n",
    "print(matrix_sum_print)"
   ]
  },
  {
   "cell_type": "code",
   "execution_count": 56,
   "id": "e6960508",
   "metadata": {},
   "outputs": [],
   "source": [
    "# завдання 2 (Приклад перетворення матриць №2 (до 2-го рядка додати 1-ший, помножений на -4; до 3 рядка додати 1"
   ]
  },
  {
   "cell_type": "code",
   "execution_count": 57,
   "id": "160c7418",
   "metadata": {},
   "outputs": [],
   "source": [
    "matrix = np.array([[1, 2, 3], [4, 5, 6], [7, 8, 9]])"
   ]
  },
  {
   "cell_type": "code",
   "execution_count": 58,
   "id": "62db03be",
   "metadata": {},
   "outputs": [],
   "source": [
    "matrix[1] += -4 * matrix[0]\n",
    "matrix[2] += matrix[0]"
   ]
  },
  {
   "cell_type": "code",
   "execution_count": 45,
   "id": "bda13cad",
   "metadata": {},
   "outputs": [
    {
     "name": "stdout",
     "output_type": "stream",
     "text": [
      "[[ 1  2  3]\n",
      " [ 0 -3 -6]\n",
      " [ 8 10 12]]\n"
     ]
    }
   ],
   "source": [
    "print(matrix)\n"
   ]
  },
  {
   "cell_type": "code",
   "execution_count": null,
   "id": "3409eb7e",
   "metadata": {},
   "outputs": [],
   "source": []
  }
 ],
 "metadata": {
  "kernelspec": {
   "display_name": "Python 3 (ipykernel)",
   "language": "python",
   "name": "python3"
  },
  "language_info": {
   "codemirror_mode": {
    "name": "ipython",
    "version": 3
   },
   "file_extension": ".py",
   "mimetype": "text/x-python",
   "name": "python",
   "nbconvert_exporter": "python",
   "pygments_lexer": "ipython3",
   "version": "3.9.13"
  }
 },
 "nbformat": 4,
 "nbformat_minor": 5
}
