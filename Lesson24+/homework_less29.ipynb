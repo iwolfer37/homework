{
 "cells": [
  {
   "cell_type": "code",
   "execution_count": 14,
   "id": "c3d5f9e3",
   "metadata": {},
   "outputs": [
    {
     "name": "stdout",
     "output_type": "stream",
     "text": [
      "Відхиляємо H0\n",
      "хі-квадрат: 39.64\n",
      "Критичне значення хі-квадрат: 20.090235029663233\n"
     ]
    }
   ],
   "source": [
    "import scipy.stats as stats\n",
    "\n",
    "# частоти в умові\n",
    "oi = [1, 2, 4, 6, 12, 16, 6, 2, 1]\n",
    "\n",
    "# Очікувані частоти\n",
    "n = sum(oi)\n",
    "ei = [n/9] * 9\n",
    "\n",
    "# Обчислення критерію хі-квадрат\n",
    "xi = sum((o - e) ** 2 / e for o, e in zip(oi, ei))\n",
    "\n",
    "# Заданий рівень значущості\n",
    "a = 0.01\n",
    "\n",
    "# Критичне значення хі-квадрат\n",
    "critical_val = stats.chi2.ppf(1 - a, 8)\n",
    "\n",
    "# Порівняння з критичним значенням\n",
    "if xi > critical_val:\n",
    "    print(\"Відхиляємо H0\")\n",
    "else:\n",
    "    print(\"Не відхиляємо H0\")\n",
    "\n",
    "print(\"хі-квадрат:\", xi)\n",
    "print(\"Критичне значення хі-квадрат:\", critical_val)\n"
   ]
  },
  {
   "cell_type": "code",
   "execution_count": 10,
   "id": "918a4844",
   "metadata": {},
   "outputs": [
    {
     "name": "stdout",
     "output_type": "stream",
     "text": [
      "Значення a: -3.00000000000000\n",
      "Значення b: 7.00000000000000\n",
      "Щільність розподілу f(x): 0.100000000000000\n"
     ]
    }
   ],
   "source": [
    "import sympy as sp\n",
    "\n",
    "# Оголошення символьних змінних\n",
    "a, b, x = sp.symbols('a b x')\n",
    "\n",
    "# Вирази для щільності розподілу та ймовірності\n",
    "f_x = 1 / (b - a)\n",
    "p_x = (b - x) / (b - a)\n",
    "\n",
    "# Розв'язання системи рівнянь\n",
    "eq1 = sp.Eq(p_x.subs({x: 3}), 0.4)\n",
    "eq2 = sp.Eq((a + b) / 2, 2)\n",
    "solution = sp.solve((eq1, eq2), (a, b))\n",
    "\n",
    "# Отримання значень a та b\n",
    "a_val = solution[a]\n",
    "b_val = solution[b]\n",
    "\n",
    "# Виведення результатів\n",
    "print(\"Значення a:\", a_val)\n",
    "print(\"Значення b:\", b_val)\n",
    "print(\"Щільність розподілу f(x):\", f_x.subs({a: a_val, b: b_val}))\n"
   ]
  }
 ],
 "metadata": {
  "kernelspec": {
   "display_name": "Python 3 (ipykernel)",
   "language": "python",
   "name": "python3"
  },
  "language_info": {
   "codemirror_mode": {
    "name": "ipython",
    "version": 3
   },
   "file_extension": ".py",
   "mimetype": "text/x-python",
   "name": "python",
   "nbconvert_exporter": "python",
   "pygments_lexer": "ipython3",
   "version": "3.9.13"
  }
 },
 "nbformat": 4,
 "nbformat_minor": 5
}
