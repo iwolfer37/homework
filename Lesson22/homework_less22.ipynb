{
 "cells": [
  {
   "cell_type": "code",
   "execution_count": 66,
   "id": "2dbad333",
   "metadata": {},
   "outputs": [],
   "source": [
    "# Завдання 1\n",
    "M = set(range(1, 16)) # множ.студ, від.оцінка\n",
    "F = set(range(1, 17)) # множ.студ, фізика від.оцінка\n",
    "X = set(range(1, 20)) # множ.студ, хімія від.оцінка\n"
   ]
  },
  {
   "cell_type": "code",
   "execution_count": 67,
   "id": "babf44fe",
   "metadata": {},
   "outputs": [],
   "source": [
    "MF = set([1,2,3,4,5,6,7]) # множ.студ, мат. та фізики від.оцінка\n",
    "MX = set([1,2,3,4,5,6,7,8,9]) # множ.студ, мат. та хім від.оцінка\n",
    "FX = set([1,2,3,4,5,6]) # множ.студ, фізики. та хімії від.оцінка\n"
   ]
  },
  {
   "cell_type": "code",
   "execution_count": 68,
   "id": "a8823022",
   "metadata": {},
   "outputs": [],
   "source": [
    "MFX = set([1,2,3,4]) # множ.студ, мат. фізики. та хімії від.оцінка\n"
   ]
  },
  {
   "cell_type": "code",
   "execution_count": 70,
   "id": "98c40a01",
   "metadata": {},
   "outputs": [
    {
     "name": "stdout",
     "output_type": "stream",
     "text": [
      "Студенти отримали хоча б одну відмінну оцінку 32\n"
     ]
    }
   ],
   "source": [
    "result = len(M) + len(F) + len(X) - len(MF) - len(MX) - len(FX) + len(MFX)\n",
    "\n",
    "\n",
    "print(\"Студенти отримали хоча б одну відмінну оцінку\", result)\n",
    "\n"
   ]
  },
  {
   "cell_type": "code",
   "execution_count": 86,
   "id": "ff7d81e4",
   "metadata": {},
   "outputs": [
    {
     "name": "stdout",
     "output_type": "stream",
     "text": [
      "Кількість гарних днів -> 15\n"
     ]
    }
   ],
   "source": [
    "#Завдання 2 (30 днів вересня знайти хорошу погоду к-сть днів)\n",
    "R = set(range(0, 12))  # Множина днів з дощем\n",
    "W = set(range(0, 8))  # Множина днів з вітром\n",
    "C = set(range(0, 4))  # Множина днів з холодом\n",
    "\n",
    "RW = set([1,2,3,4,5])\n",
    "RC = set([1,2,3])\n",
    "CW = set([1,2])\n",
    "\n",
    "RWC = set([1]) #один день повна непогода\\\n",
    "All = 30 # днів в міс. вересень по умові задачі\n",
    "\n",
    "good_day = All - (len(R) + len(W) + len(C) - len(RW) - len(RC) - len(CW) + len(RWC))\n",
    "\n",
    "print(\"Кількість гарних днів ->\", good_day)\n"
   ]
  },
  {
   "cell_type": "code",
   "execution_count": null,
   "id": "160c7418",
   "metadata": {},
   "outputs": [],
   "source": []
  },
  {
   "cell_type": "code",
   "execution_count": null,
   "id": "62db03be",
   "metadata": {},
   "outputs": [],
   "source": []
  },
  {
   "cell_type": "code",
   "execution_count": null,
   "id": "bda13cad",
   "metadata": {},
   "outputs": [],
   "source": []
  }
 ],
 "metadata": {
  "kernelspec": {
   "display_name": "Python 3 (ipykernel)",
   "language": "python",
   "name": "python3"
  },
  "language_info": {
   "codemirror_mode": {
    "name": "ipython",
    "version": 3
   },
   "file_extension": ".py",
   "mimetype": "text/x-python",
   "name": "python",
   "nbconvert_exporter": "python",
   "pygments_lexer": "ipython3",
   "version": "3.9.13"
  }
 },
 "nbformat": 4,
 "nbformat_minor": 5
}
