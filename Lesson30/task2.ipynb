{
 "cells": [
  {
   "cell_type": "code",
   "execution_count": 10,
   "id": "b0c500bd",
   "metadata": {},
   "outputs": [
    {
     "name": "stdout",
     "output_type": "stream",
     "text": [
      "\n",
      "Меню:\n",
      "1. Реєстрація\n",
      "2. Авторизація\n",
      "3. Вихід\n",
      "Виберіть опцію: 1\n",
      "Введіть логін: John\n",
      "Введіть пароль: 1111\n"
     ]
    },
    {
     "name": "stderr",
     "output_type": "stream",
     "text": [
      "INFO:root:Новий користувач зареєстрований: John\n"
     ]
    },
    {
     "name": "stdout",
     "output_type": "stream",
     "text": [
      "Реєстрація успішна.\n",
      "\n",
      "Меню:\n",
      "1. Реєстрація\n",
      "2. Авторизація\n",
      "3. Вихід\n",
      "Виберіть опцію: 1\n",
      "Введіть логін: John\n",
      "Введіть пароль: 1111\n"
     ]
    },
    {
     "name": "stderr",
     "output_type": "stream",
     "text": [
      "WARNING:root:Спроба реєстрації з існуючим логіном: John\n"
     ]
    },
    {
     "name": "stdout",
     "output_type": "stream",
     "text": [
      "Користувач з таким логіном вже існує.\n",
      "\n",
      "Меню:\n",
      "1. Реєстрація\n",
      "2. Авторизація\n",
      "3. Вихід\n",
      "Виберіть опцію: 2\n",
      "Введіть логін: John\n",
      "Введіть пароль: 1111\n"
     ]
    },
    {
     "name": "stderr",
     "output_type": "stream",
     "text": [
      "INFO:root:Користувач John успішно ввійшов\n"
     ]
    },
    {
     "name": "stdout",
     "output_type": "stream",
     "text": [
      "Авторизація успішна.\n",
      "\n",
      "Меню:\n",
      "1. Реєстрація\n",
      "2. Авторизація\n",
      "3. Вихід\n",
      "Виберіть опцію: 1\n",
      "Введіть логін: Wolfer\n",
      "Введіть пароль: 2222\n"
     ]
    },
    {
     "name": "stderr",
     "output_type": "stream",
     "text": [
      "INFO:root:Новий користувач зареєстрований: Wolfer\n"
     ]
    },
    {
     "name": "stdout",
     "output_type": "stream",
     "text": [
      "Реєстрація успішна.\n",
      "\n",
      "Меню:\n",
      "1. Реєстрація\n",
      "2. Авторизація\n",
      "3. Вихід\n",
      "Виберіть опцію: 3\n"
     ]
    }
   ],
   "source": [
    "import hashlib\n",
    "import logging\n",
    "\n",
    "logging.basicConfig(level=logging.INFO)\n",
    "\n",
    "class UserAuthentication:\n",
    "    def __init__(self):\n",
    "        self.users = {}\n",
    "        self.favorite_number = 37\n",
    "\n",
    "    def register(self):\n",
    "        username = input(\"Введіть логін: \")\n",
    "        password = input(\"Введіть пароль: \")\n",
    "\n",
    "        if username in self.users:\n",
    "            print(\"Користувач з таким логіном вже існує.\")\n",
    "            logging.warning(f\"Спроба реєстрації з існуючим логіном: {username}\")\n",
    "            return\n",
    "\n",
    "        hashed_password = self._double_hash_password(password)\n",
    "\n",
    "        self.users[username] = hashed_password\n",
    "        print(\"Реєстрація успішна.\")\n",
    "        logging.info(f\"Новий користувач зареєстрований: {username}\")\n",
    "\n",
    "    def login(self):\n",
    "        username = input(\"Введіть логін: \")\n",
    "        password = input(\"Введіть пароль: \")\n",
    "\n",
    "        if username not in self.users:\n",
    "            print(\"Користувача з таким логіном не знайдено.\")\n",
    "            logging.warning(f\"Спроба входу з недійсним логіном: {username}\")\n",
    "            return\n",
    "\n",
    "        hashed_password = self._double_hash_password(password)\n",
    "\n",
    "        if self.users[username] == hashed_password:\n",
    "            print(\"Авторизація успішна.\")\n",
    "            logging.info(f\"Користувач {username} успішно ввійшов\")\n",
    "        else:\n",
    "            print(\"Неправильний пароль.\")\n",
    "            logging.warning(f\"Невірний пароль для користувача {username}\")\n",
    "\n",
    "    def _double_hash_password(self, password):\n",
    "        hashed_password = self._hash_password(password + str(self.favorite_number))\n",
    "\n",
    "        for _ in range(int(len(self.users) * 0.3 * len(self.users))):\n",
    "            hashed_password = self._hash_password(hashed_password + str(self.favorite_number))\n",
    "\n",
    "        return hashed_password\n",
    "\n",
    "    def _hash_password(self, password):\n",
    "        hashed_password = password\n",
    "\n",
    "        for _ in range(int(len(self.users) * 0.3 * len(self.users))):\n",
    "            hashed_password = hashlib.sha256(hashed_password.encode()).hexdigest()  # Hash password\n",
    "\n",
    "        return hashed_password\n",
    "\n",
    "# Використання класу UserAuthentication\n",
    "auth = UserAuthentication()\n",
    "\n",
    "while True:\n",
    "    print(\"\\nМеню:\")\n",
    "    print(\"1. Реєстрація\")\n",
    "    print(\"2. Авторизація\")\n",
    "    print(\"3. Вихід\")\n",
    "\n",
    "    choice = input(\"Виберіть опцію: \")\n",
    "\n",
    "    if choice == \"1\":\n",
    "        auth.register()\n",
    "    elif choice == \"2\":\n",
    "        auth.login()\n",
    "    elif choice == \"3\":\n",
    "        break\n",
    "    else:\n",
    "        print(\"Неправильний вибір. Спробуйте ще раз.\")\n"
   ]
  }
 ],
 "metadata": {
  "kernelspec": {
   "display_name": "Python 3 (ipykernel)",
   "language": "python",
   "name": "python3"
  },
  "language_info": {
   "codemirror_mode": {
    "name": "ipython",
    "version": 3
   },
   "file_extension": ".py",
   "mimetype": "text/x-python",
   "name": "python",
   "nbconvert_exporter": "python",
   "pygments_lexer": "ipython3",
   "version": "3.9.13"
  }
 },
 "nbformat": 4,
 "nbformat_minor": 5
}
