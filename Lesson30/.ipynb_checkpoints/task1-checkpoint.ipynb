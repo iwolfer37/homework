{
 "cells": [
  {
   "cell_type": "code",
   "execution_count": 38,
   "id": "d3fad478",
   "metadata": {},
   "outputs": [
    {
     "name": "stdout",
     "output_type": "stream",
     "text": [
      "Slot: 0 => Key: 3, Value: ви дивились?\n",
      "Slot: 1 => Key: 4, Value: Завдання 25\n",
      "Slot: 2 => Key: 5, Value: А то там як було 50 балів\n",
      "Slot: 3 => Key: 6, Value: Так й залишилось 50 балів\n",
      "Slot: 4 => Key: 7, Value: Провірьте дз 25)\n",
      "Slot: 5 is empty.\n",
      "Slot: 6 is empty.\n",
      "Slot: 7 is empty.\n",
      "Slot: 8 => Key: 1, Value: А бали в дз змінюються?\n",
      "Slot: 9 => Key: 2, Value: Я вам в ПП в телегу кидав\n",
      "Пошук значення за ключем: А бали в дз змінюються?\n"
     ]
    }
   ],
   "source": [
    "# Завдання 1\n",
    "class HashTable:\n",
    "    def __init__(self, size):\n",
    "        # Конструктор, який ініціалізує хеш-таблицю з заданим розміром\n",
    "        self.size = size\n",
    "        self.table = [None] * size\n",
    "\n",
    "    def _hash(self, key):\n",
    "        # хеш-функція, що додає моє любиме число 37 та ділимо ключ на розмір таблиці\n",
    "        return (key + 37) % self.size\n",
    "\n",
    "    def insert(self, key, value):\n",
    "        # Вставка пари ключ-значення в хеш-таблицю\n",
    "        hashed_key = self._hash(key)\n",
    "\n",
    "        # Якщо слот пустий, вставляємо пару ключ-значення\n",
    "        if self.table[hashed_key] is None:\n",
    "            self.table[hashed_key] = (key, value)\n",
    "        else:\n",
    "            # Якщо слот не пустий, використовуємо лінійне зондування (саме просте й перше з лекції)))\n",
    "            next_slot = hashed_key\n",
    "            while self.table[next_slot] is not None:\n",
    "                next_slot = (next_slot + 1) % self.size\n",
    "            # Вставляємо пару ключ-значення у вільний слот\n",
    "            self.table[next_slot] = (key, value)\n",
    "\n",
    "    def search(self, key):\n",
    "        # Пошук значення за ключем\n",
    "        start_slot = self._hash(key)\n",
    "\n",
    "        data = None\n",
    "        stop = False\n",
    "        found = False\n",
    "        position = start_slot\n",
    "        # Шукаємо значення в таблиці, використовуючи лінійне зондування, поки не знайдемо або не перевіримо всі слоти\n",
    "        while self.table[position] is not None and not found and not stop:\n",
    "            if self.table[position][0] == key:\n",
    "                found = True\n",
    "                data = self.table[position][1]\n",
    "            else:\n",
    "                position = (position + 1) % self.size\n",
    "        # Повертаємо знайдене значення або None, якщо ключ не знайдений\n",
    "        return data\n",
    "\n",
    "    def delete(self, key):\n",
    "        # Видалення пари ключ-значення за ключем\n",
    "        start_slot = self._hash(key)\n",
    "\n",
    "        stop = False\n",
    "        found = False\n",
    "        position = start_slot\n",
    "        # Шукаємо ключ в таблиці, використовуючи лінійне зондування, поки не знайдемо або не перевіримо всі слоти\n",
    "        while self.table[position] is not None and not found and not stop:\n",
    "            if self.table[position][0] == key:\n",
    "                found = True\n",
    "                # Видаляємо пару ключ-значення, встановлюючи слот в None\n",
    "                self.table[position] = None\n",
    "            else:\n",
    "                position = (position + 1) % self.size\n",
    "        # Повертаємо булеве значення, яке вказує, чи було знайдено і видалено ключ\n",
    "        return found\n",
    "\n",
    "    def print_table(self):\n",
    "        # Вивід хеш-таблиці\n",
    "        for i, slot in enumerate(self.table):\n",
    "            if slot is not None:\n",
    "                print(f\"Slot: {i} => Key: {slot[0]}, Value: {slot[1]}\")\n",
    "            else:\n",
    "                print(f\"Slot: {i} is empty.\")\n",
    "\n",
    "# Створення нової хеш-таблиці\n",
    "hash_table = HashTable(10)\n",
    "\n",
    "# Додавання пари ключ-значення\n",
    "hash_table.insert(1, 'А бали в дз змінюються?')\n",
    "hash_table.insert(2, 'Я вам в ПП в телегу кидав')\n",
    "hash_table.insert(3, 'ви дивились?')\n",
    "hash_table.insert(4, 'Завдання 25')\n",
    "hash_table.insert(5, 'А то там як було 50 балів')\n",
    "hash_table.insert(6, 'Так й залишилось 50 балів')\n",
    "hash_table.insert(7, 'Провірьте дз 25)')\n",
    "\n",
    "hash_table.print_table()\n",
    "\n",
    "print(f'Пошук значення за ключем: {hash_table.search(1)}')"
   ]
  },
  {
   "cell_type": "code",
   "execution_count": 39,
   "id": "9c3a4d18",
   "metadata": {},
   "outputs": [
    {
     "name": "stdout",
     "output_type": "stream",
     "text": [
      "Slot: 0 is empty.\n",
      "Slot: 1 => Key: 4, Value: Завдання 25\n",
      "Slot: 2 => Key: 5, Value: А то там як було 50 балів\n",
      "Slot: 3 => Key: 6, Value: Так й залишилось 50 балів\n",
      "Slot: 4 => Key: 7, Value: Провірьте дз 25)\n",
      "Slot: 5 is empty.\n",
      "Slot: 6 is empty.\n",
      "Slot: 7 is empty.\n",
      "Slot: 8 => Key: 1, Value: А бали в дз змінюються?\n",
      "Slot: 9 => Key: 2, Value: Я вам в ПП в телегу кидав\n"
     ]
    }
   ],
   "source": [
    "# Видалення пари ключ-значення за ключем\n",
    "hash_table.delete(3)\n",
    "\n",
    "hash_table.print_table()"
   ]
  },
  {
   "cell_type": "code",
   "execution_count": null,
   "id": "29f29f89",
   "metadata": {},
   "outputs": [
    {
     "name": "stdout",
     "output_type": "stream",
     "text": [
      "\n",
      "Меню:\n",
      "1. Реєстрація\n",
      "2. Авторизація\n",
      "3. Вихід\n",
      "Введіть цифру (опцію)  з меню: 1\n",
      "Введіть логін: John\n",
      "Введіть пароль: 1111\n"
     ]
    },
    {
     "name": "stderr",
     "output_type": "stream",
     "text": [
      "INFO:root:Новий користувач зареєстрований: John\n"
     ]
    },
    {
     "name": "stdout",
     "output_type": "stream",
     "text": [
      "Реєстрація успішна.\n",
      "\n",
      "Меню:\n",
      "1. Реєстрація\n",
      "2. Авторизація\n",
      "3. Вихід\n",
      "Введіть цифру (опцію)  з меню: 1\n",
      "Введіть логін: iWolfer\n",
      "Введіть пароль: 2222\n"
     ]
    },
    {
     "name": "stderr",
     "output_type": "stream",
     "text": [
      "INFO:root:Новий користувач зареєстрований: iWolfer\n"
     ]
    },
    {
     "name": "stdout",
     "output_type": "stream",
     "text": [
      "Реєстрація успішна.\n",
      "\n",
      "Меню:\n",
      "1. Реєстрація\n",
      "2. Авторизація\n",
      "3. Вихід\n",
      "Введіть цифру (опцію)  з меню: 2\n",
      "Введіть логін: John\n",
      "Введіть пароль: 1111\n"
     ]
    },
    {
     "name": "stderr",
     "output_type": "stream",
     "text": [
      "WARNING:root:Невірний пароль для користувача John\n"
     ]
    },
    {
     "name": "stdout",
     "output_type": "stream",
     "text": [
      "Неправильний пароль.\n",
      "\n",
      "Меню:\n",
      "1. Реєстрація\n",
      "2. Авторизація\n",
      "3. Вихід\n"
     ]
    }
   ],
   "source": [
    "# Завдання 2\n",
    "import hashlib\n",
    "import logging\n",
    "\n",
    "logging.basicConfig(level=logging.INFO)\n",
    "\n",
    "class UserAuthentication:\n",
    "    def __init__(self):\n",
    "        self.users = {}\n",
    "        self.favorite_number = 37\n",
    "\n",
    "    def register(self):\n",
    "        username = input(\"Введіть логін: \")\n",
    "        password = input(\"Введіть пароль: \")\n",
    "\n",
    "        if username in self.users:\n",
    "            print(\"Користувач з таким логіном вже існує.\")\n",
    "            logging.warning(f\"Спроба реєстрації з існуючим логіном: {username}\")\n",
    "            return\n",
    "\n",
    "        hashed_password = self._double_hash_password(password)\n",
    "\n",
    "        self.users[username] = hashed_password\n",
    "        print(\"Реєстрація успішна.\")\n",
    "        logging.info(f\"Новий користувач зареєстрований: {username}\")\n",
    "\n",
    "    def login(self):\n",
    "        username = input(\"Введіть логін: \")\n",
    "        password = input(\"Введіть пароль: \")\n",
    "\n",
    "        if username not in self.users:\n",
    "            print(\"Користувача з таким логіном не знайдено.\")\n",
    "            logging.warning(f\"Спроба входу з недійсним логіном: {username}\")\n",
    "            return\n",
    "\n",
    "        hashed_password = self._double_hash_password(password)\n",
    "\n",
    "        if self.users[username] == hashed_password:\n",
    "            print(\"Авторизація успішна.\")\n",
    "            logging.info(f\"Користувач {username} успішно ввійшов\")\n",
    "        else:\n",
    "            print(\"Неправильний пароль.\")\n",
    "            logging.warning(f\"Невірний пароль для користувача {username}\")\n",
    "\n",
    "    def _double_hash_password(self, password):\n",
    "        hashed_password = self._hash_password(password + str(self.favorite_number))\n",
    "\n",
    "        for _ in range(int(len(self.users) * 0.3 * len(self.users))):\n",
    "            hashed_password = self._hash_password(hashed_password + str(self.favorite_number))\n",
    "\n",
    "        return hashed_password\n",
    "\n",
    "    def _hash_password(self, password):\n",
    "        sha256 = hashlib.sha256()\n",
    "        sha256.update(password.encode('utf-8'))\n",
    "        hashed_password = sha256.hexdigest()\n",
    "        hashed_password = ''.join(chr(ord(c) ^ self.favorite_number) for c in hashed_password)\n",
    "        return hashed_password\n",
    "\n",
    "\n",
    "# Використання класу UserAuthentication\n",
    "auth = UserAuthentication()\n",
    "\n",
    "while True:\n",
    "    print(\"\\nМеню:\")\n",
    "    print(\"1. Реєстрація\")\n",
    "    print(\"2. Авторизація\")\n",
    "    print(\"3. Вихід\")\n",
    "\n",
    "    choice = input(\"Введіть цифру (опцію)  з меню: \")\n",
    "\n",
    "    if choice == \"1\":\n",
    "        auth.register()\n",
    "    elif choice == \"2\":\n",
    "        auth.login()\n",
    "    elif choice == \"3\":\n",
    "        break\n",
    "    else:\n",
    "        print(\"Неправильний вибір. Спробуйте ще раз.\")\n"
   ]
  },
  {
   "cell_type": "code",
   "execution_count": null,
   "id": "864e6770",
   "metadata": {},
   "outputs": [],
   "source": []
  }
 ],
 "metadata": {
  "kernelspec": {
   "display_name": "Python 3 (ipykernel)",
   "language": "python",
   "name": "python3"
  },
  "language_info": {
   "codemirror_mode": {
    "name": "ipython",
    "version": 3
   },
   "file_extension": ".py",
   "mimetype": "text/x-python",
   "name": "python",
   "nbconvert_exporter": "python",
   "pygments_lexer": "ipython3",
   "version": "3.9.13"
  }
 },
 "nbformat": 4,
 "nbformat_minor": 5
}
