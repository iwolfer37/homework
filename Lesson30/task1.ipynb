{
 "cells": [
  {
   "cell_type": "code",
   "execution_count": 38,
   "id": "d3fad478",
   "metadata": {},
   "outputs": [
    {
     "name": "stdout",
     "output_type": "stream",
     "text": [
      "Slot: 0 => Key: 3, Value: ви дивились?\n",
      "Slot: 1 => Key: 4, Value: Завдання 25\n",
      "Slot: 2 => Key: 5, Value: А то там як було 50 балів\n",
      "Slot: 3 => Key: 6, Value: Так й залишилось 50 балів\n",
      "Slot: 4 => Key: 7, Value: Провірьте дз 25)\n",
      "Slot: 5 is empty.\n",
      "Slot: 6 is empty.\n",
      "Slot: 7 is empty.\n",
      "Slot: 8 => Key: 1, Value: А бали в дз змінюються?\n",
      "Slot: 9 => Key: 2, Value: Я вам в ПП в телегу кидав\n",
      "Пошук значення за ключем: А бали в дз змінюються?\n"
     ]
    }
   ],
   "source": [
    "# Завдання 1\n",
    "class HashTable:\n",
    "    def __init__(self, size):\n",
    "        # Конструктор, який ініціалізує хеш-таблицю з заданим розміром\n",
    "        self.size = size\n",
    "        self.table = [None] * size\n",
    "\n",
    "    def _hash(self, key):\n",
    "        # хеш-функція, що додає моє любиме число 37 та ділимо ключ на розмір таблиці\n",
    "        return (key + 37) % self.size\n",
    "\n",
    "    def insert(self, key, value):\n",
    "        # Вставка пари ключ-значення в хеш-таблицю\n",
    "        hashed_key = self._hash(key)\n",
    "\n",
    "        # Якщо слот пустий, вставляємо пару ключ-значення\n",
    "        if self.table[hashed_key] is None:\n",
    "            self.table[hashed_key] = (key, value)\n",
    "        else:\n",
    "            # Якщо слот не пустий, використовуємо лінійне зондування (саме просте й перше з лекції)))\n",
    "            next_slot = hashed_key\n",
    "            while self.table[next_slot] is not None:\n",
    "                next_slot = (next_slot + 1) % self.size\n",
    "            # Вставляємо пару ключ-значення у вільний слот\n",
    "            self.table[next_slot] = (key, value)\n",
    "\n",
    "    def search(self, key):\n",
    "        # Пошук значення за ключем\n",
    "        start_slot = self._hash(key)\n",
    "\n",
    "        data = None\n",
    "        stop = False\n",
    "        found = False\n",
    "        position = start_slot\n",
    "        # Шукаємо значення в таблиці, використовуючи лінійне зондування, поки не знайдемо або не перевіримо всі слоти\n",
    "        while self.table[position] is not None and not found and not stop:\n",
    "            if self.table[position][0] == key:\n",
    "                found = True\n",
    "                data = self.table[position][1]\n",
    "            else:\n",
    "                position = (position + 1) % self.size\n",
    "        # Повертаємо знайдене значення або None, якщо ключ не знайдений\n",
    "        return data\n",
    "\n",
    "    def delete(self, key):\n",
    "        # Видалення пари ключ-значення за ключем\n",
    "        start_slot = self._hash(key)\n",
    "\n",
    "        stop = False\n",
    "        found = False\n",
    "        position = start_slot\n",
    "        # Шукаємо ключ в таблиці, використовуючи лінійне зондування, поки не знайдемо або не перевіримо всі слоти\n",
    "        while self.table[position] is not None and not found and not stop:\n",
    "            if self.table[position][0] == key:\n",
    "                found = True\n",
    "                # Видаляємо пару ключ-значення, встановлюючи слот в None\n",
    "                self.table[position] = None\n",
    "            else:\n",
    "                position = (position + 1) % self.size\n",
    "        # Повертаємо булеве значення, яке вказує, чи було знайдено і видалено ключ\n",
    "        return found\n",
    "\n",
    "    def print_table(self):\n",
    "        # Вивід хеш-таблиці\n",
    "        for i, slot in enumerate(self.table):\n",
    "            if slot is not None:\n",
    "                print(f\"Slot: {i} => Key: {slot[0]}, Value: {slot[1]}\")\n",
    "            else:\n",
    "                print(f\"Slot: {i} is empty.\")\n",
    "\n",
    "# Створення нової хеш-таблиці\n",
    "hash_table = HashTable(10)\n",
    "\n",
    "# Додавання пари ключ-значення\n",
    "hash_table.insert(1, 'А бали в дз змінюються?')\n",
    "hash_table.insert(2, 'Я вам в ПП в телегу кидав')\n",
    "hash_table.insert(3, 'ви дивились?')\n",
    "hash_table.insert(4, 'Завдання 25')\n",
    "hash_table.insert(5, 'А то там як було 50 балів')\n",
    "hash_table.insert(6, 'Так й залишилось 50 балів')\n",
    "hash_table.insert(7, 'Провірьте дз 25)')\n",
    "\n",
    "hash_table.print_table()\n",
    "\n",
    "print(f'Пошук значення за ключем: {hash_table.search(1)}')"
   ]
  },
  {
   "cell_type": "code",
   "execution_count": 39,
   "id": "9c3a4d18",
   "metadata": {},
   "outputs": [
    {
     "name": "stdout",
     "output_type": "stream",
     "text": [
      "Slot: 0 is empty.\n",
      "Slot: 1 => Key: 4, Value: Завдання 25\n",
      "Slot: 2 => Key: 5, Value: А то там як було 50 балів\n",
      "Slot: 3 => Key: 6, Value: Так й залишилось 50 балів\n",
      "Slot: 4 => Key: 7, Value: Провірьте дз 25)\n",
      "Slot: 5 is empty.\n",
      "Slot: 6 is empty.\n",
      "Slot: 7 is empty.\n",
      "Slot: 8 => Key: 1, Value: А бали в дз змінюються?\n",
      "Slot: 9 => Key: 2, Value: Я вам в ПП в телегу кидав\n"
     ]
    }
   ],
   "source": [
    "# Видалення пари ключ-значення за ключем\n",
    "hash_table.delete(3)\n",
    "\n",
    "hash_table.print_table()"
   ]
  }
 ],
 "metadata": {
  "kernelspec": {
   "display_name": "Python 3 (ipykernel)",
   "language": "python",
   "name": "python3"
  },
  "language_info": {
   "codemirror_mode": {
    "name": "ipython",
    "version": 3
   },
   "file_extension": ".py",
   "mimetype": "text/x-python",
   "name": "python",
   "nbconvert_exporter": "python",
   "pygments_lexer": "ipython3",
   "version": "3.9.13"
  }
 },
 "nbformat": 4,
 "nbformat_minor": 5
}
