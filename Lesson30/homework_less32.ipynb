{
 "cells": [
  {
   "cell_type": "code",
   "execution_count": 85,
   "id": "978de0c9",
   "metadata": {},
   "outputs": [],
   "source": [
    "# Завдання 1 ствр data\n",
    "import pandas as pd\n",
    "\n",
    "# Створення списків з даними\n",
    "Stud = ['Іван Бобильов', 'Дональд Трамп', 'Ані Лорак', 'Анджей Дуда', 'Емінем',\n",
    "        'Джозеф Байден', 'Володимир Зеленський', 'Валерій Залужний', 'Райан Рейнольдс', 'Михайло Федоров',\n",
    "        'Ден Рейнольдс', 'Андрій Єрмак', 'Меган Фокс', 'Едді Мерфі', 'Анджеліна Джолі']\n",
    "\n",
    "Aver = [4.8, 3.2, 3.3, 4.3, 4.6, 4.0, 4.8, 4.7, 4.0, 4.0, 3.4, 3.3, 3.9, 4.1, 3.3]\n",
    "\n",
    "Grade = [96, 56, 46, 86, 92, 80, 96, 94, 84, 80, 64, 48, 58, 82, 60]\n",
    "\n",
    "try_ex = [1, 2, 3, 3, 1, 2, 1, 1, 1, 1, 2, 2, 2, 3, 3]"
   ]
  },
  {
   "cell_type": "code",
   "execution_count": 86,
   "id": "28d8cfe0",
   "metadata": {},
   "outputs": [
    {
     "name": "stdout",
     "output_type": "stream",
     "text": [
      "                 Student  Average  Exam Grade  Attempt Count\n",
      "0          Іван Бобильов      4.8          96              1\n",
      "1          Дональд Трамп      3.2          56              2\n",
      "2              Ані Лорак      3.3          46              3\n",
      "3            Анджей Дуда      4.3          86              3\n",
      "4                 Емінем      4.6          92              1\n",
      "5          Джозеф Байден      4.0          80              2\n",
      "6   Володимир Зеленський      4.8          96              1\n",
      "7       Валерій Залужний      4.7          94              1\n",
      "8        Райан Рейнольдс      4.0          84              1\n",
      "9        Михайло Федоров      4.0          80              1\n",
      "10         Ден Рейнольдс      3.4          64              2\n",
      "11          Андрій Єрмак      3.3          48              2\n",
      "12            Меган Фокс      3.9          58              2\n",
      "13            Едді Мерфі      4.1          82              3\n",
      "14       Анджеліна Джолі      3.3          60              3\n"
     ]
    }
   ],
   "source": [
    "df = pd.DataFrame({\n",
    "    'Student': Stud,\n",
    "    'Average': Aver,\n",
    "    'Exam Grade': Grade,\n",
    "    'Attempt Count': try_ex\n",
    "})\n",
    "\n",
    "print(df)"
   ]
  },
  {
   "cell_type": "code",
   "execution_count": 87,
   "id": "c5aed42b",
   "metadata": {},
   "outputs": [
    {
     "name": "stdout",
     "output_type": "stream",
     "text": [
      "                 Student  Average  Exam Grade  Attempt Count     Admission\n",
      "0          Іван Бобильов      4.8          96              1        Допуск\n",
      "1          Дональд Трамп      3.2          56              2  Незараховано\n",
      "2              Ані Лорак      3.3          46              3  Незараховано\n",
      "3            Анджей Дуда      4.3          86              3        Допуск\n",
      "4                 Емінем      4.6          92              1        Допуск\n",
      "5          Джозеф Байден      4.0          80              2        Допуск\n",
      "6   Володимир Зеленський      4.8          96              1        Допуск\n",
      "7       Валерій Залужний      4.7          94              1        Допуск\n",
      "8        Райан Рейнольдс      4.0          84              1        Допуск\n",
      "9        Михайло Федоров      4.0          80              1        Допуск\n",
      "10         Ден Рейнольдс      3.4          64              2        Допуск\n",
      "11          Андрій Єрмак      3.3          48              2  Незараховано\n",
      "12            Меган Фокс      3.9          58              2  Незараховано\n",
      "13            Едді Мерфі      4.1          82              3        Допуск\n",
      "14       Анджеліна Джолі      3.3          60              3  Незараховано\n"
     ]
    }
   ],
   "source": [
    "# Завдання 2. Додавання стовпця Admission\n",
    "df['Admission'] = ['Допуск' if grade > 61 else 'Незараховано' for grade in df['Exam Grade']]\n",
    "\n",
    "print(df)"
   ]
  },
  {
   "cell_type": "code",
   "execution_count": 88,
   "id": "476a329b",
   "metadata": {},
   "outputs": [
    {
     "name": "stdout",
     "output_type": "stream",
     "text": [
      "Мінімальний середній бал:  3.2\n",
      "Максимальний середній бал:  4.8\n",
      "Середне для всіх середніх балів:  3.9799999999999995\n",
      "Медіанний середній бал:  4.0\n"
     ]
    }
   ],
   "source": [
    "# Завдання 3. Виведення мін. сер балу\n",
    "min_average = df['Average'].min()\n",
    "print(\"Мінімальний середній бал: \", min_average)\n",
    "\n",
    "max_average = df['Average'].max()\n",
    "print(\"Максимальний середній бал: \", max_average)\n",
    "\n",
    "mean_average = df['Average'].mean()\n",
    "print(\"Середне для всіх середніх балів: \", mean_average)\n",
    "\n",
    "median_average = df['Average'].median()\n",
    "print(\"Медіанний середній бал: \", median_average)"
   ]
  },
  {
   "cell_type": "code",
   "execution_count": 79,
   "id": "a20b6743",
   "metadata": {},
   "outputs": [
    {
     "name": "stdout",
     "output_type": "stream",
     "text": [
      "Список студентів, які здали з першого разу:\n",
      "0           Іван Бобильов\n",
      "4                  Емінем\n",
      "6    Володимир Зеленський\n",
      "7        Валерій Залужний\n",
      "8         Райан Рейнольдс\n",
      "9         Михайло Федоров\n",
      "Name: Student, dtype: object\n"
     ]
    }
   ],
   "source": [
    "# Завдання 4 фільтрація \n",
    "\n",
    "passed_first_attempt_students = df[df['Attempt Count'] == 1]['Student']\n",
    "print(\"Список студентів, які здали з першого разу:\")\n",
    "print(passed_first_attempt_students)"
   ]
  },
  {
   "cell_type": "code",
   "execution_count": 89,
   "id": "a696797d",
   "metadata": {},
   "outputs": [
    {
     "name": "stdout",
     "output_type": "stream",
     "text": [
      "Серія балів студентів:\n",
      "0     96\n",
      "1     56\n",
      "2     46\n",
      "3     86\n",
      "4     92\n",
      "5     80\n",
      "6     96\n",
      "7     94\n",
      "8     84\n",
      "9     80\n",
      "10    64\n",
      "11    48\n",
      "12    58\n",
      "13    82\n",
      "14    60\n",
      "Name: Exam Grade, dtype: int64\n"
     ]
    }
   ],
   "source": [
    "# Збереження стовпця \"Exam Grade\" у вигляді серії\n",
    "Grade_series = df['Exam Grade']\n",
    "\n",
    "print(\"Серія балів студентів:\")\n",
    "print(Grade_series)"
   ]
  }
 ],
 "metadata": {
  "kernelspec": {
   "display_name": "Python 3 (ipykernel)",
   "language": "python",
   "name": "python3"
  },
  "language_info": {
   "codemirror_mode": {
    "name": "ipython",
    "version": 3
   },
   "file_extension": ".py",
   "mimetype": "text/x-python",
   "name": "python",
   "nbconvert_exporter": "python",
   "pygments_lexer": "ipython3",
   "version": "3.9.13"
  }
 },
 "nbformat": 4,
 "nbformat_minor": 5
}
