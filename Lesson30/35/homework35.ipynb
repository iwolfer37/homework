{
 "cells": [
  {
   "cell_type": "code",
   "execution_count": 11,
   "id": "c8f777aa",
   "metadata": {},
   "outputs": [
    {
     "name": "stdout",
     "output_type": "stream",
     "text": [
      "MSE: 0.06833478639930252\n",
      "Коефіцієнт детермінації (R^2)): 0.7820957066348772\n"
     ]
    }
   ],
   "source": [
    "import pandas as pd\n",
    "from sklearn.linear_model import LinearRegression\n",
    "from sklearn.metrics import mean_squared_error, r2_score\n",
    "\n",
    "# Створення DataFrame (за табличкою з 32 ДЗ):\n",
    "data = {\n",
    "    'Students': ['Іван Бобильов', 'Дональд Трамп', 'Ані Лорак', 'Анджей Дуда', 'Емінем', 'Джозеф Байден', 'Володимир Зеленський',\n",
    "                 'Валерій Залужний', 'Райан Рейнольдс', 'Михайло Федоров', 'Ден Рейнольдс', 'Андрій Єрмак', 'Меган Фокс',\n",
    "                 'Едді Мерфі', 'Анджеліна Джолі'],\n",
    "    'Aver Grade': [4.8, 3.2, 3.3, 4.3, 4.6, 4.0, 4.8, 4.7, 4.0, 4.0, 3.4, 3.3, 3.9, 4.1, 3.3],\n",
    "    'Grade all': [96, 56, 46, 86, 92, 80, 96, 94, 84, 80, 64, 48, 58, 82, 60],\n",
    "    'Examination_test': [1, 2, 3, 3, 1, 2, 1, 1, 1, 1, 2, 2, 2, 3, 3],\n",
    "    'Duration': [9, 1, 1, 9, 9, 8, 9, 9, 8, 8, 4, 1, 3, 8, 4]\n",
    "}\n",
    "\n",
    "df = pd.DataFrame(data)\n",
    "\n",
    "# Duration (тривалість навчання в місяцях) та Aver Grade (середній бал) як залежної та незалежної змінної\n",
    "X = df['Duration'].values.reshape(-1, 1)\n",
    "y = df['Aver Grade'].values\n",
    "\n",
    "# Побудова моделі простої регресії\n",
    "regression_model = LinearRegression()\n",
    "regression_model.fit(X, y)\n",
    "\n",
    "# Оцінка якості моделі\n",
    "y_pred = regression_model.predict(X)\n",
    "mse = mean_squared_error(y, y_pred)\n",
    "r2 = r2_score(y, y_pred)\n",
    "\n",
    "print(\"MSE:\", mse)\n",
    "print(\"Коефіцієнт детермінації (R^2)):\", r2)"
   ]
  },
  {
   "cell_type": "code",
   "execution_count": 9,
   "id": "6d1bbd4e",
   "metadata": {},
   "outputs": [
    {
     "name": "stdout",
     "output_type": "stream",
     "text": [
      "MSE: 25302893.64172297\n",
      "Коефіцієнт детермінації (R^2): 0.9100908985734408\n"
     ]
    }
   ],
   "source": [
    "import pandas as pd\n",
    "from sklearn.linear_model import LinearRegression\n",
    "from sklearn.metrics import mean_squared_error, r2_score\n",
    "\n",
    "# Створення DataFrame з домашнього завдання 33\n",
    "data = {\n",
    "    'Марка й модель': ['Audi Q5', 'BMW X5', 'Mercedes GLE', 'Toyota RAV4', 'Honda CR-V', 'Ford Escape', 'Chevrolet Equinox',\n",
    "                       'Volkswagen Tiguan', 'Nissan Rogue', 'Hyundai Tucson', 'Kia Sportage', 'Mazda CX-5', 'Subaru Forester',\n",
    "                       'Lexus RX', 'Volvo XC90', 'Peugeot 3008', 'Renault Kadjar', 'Fiat 500X', 'Jeep Grand Cherokee',\n",
    "                       'Land Rover Range Rover Sport'],\n",
    "    'Приблизна вартість, $': [65000, 75000, 85000, 45000, 40000, 50000, 43000, 47000, 44000, 37000, 38000, 41000,\n",
    "                              60000, 73000, 80000, 57000, 50000, 37000, 70000, 90000],\n",
    "    'Росхід палива, л': [10.5, 11.2, 12.8, 9.5, 9.0, 10.0, 9.8, 9.2, 9.6, 9.4, 9.5, 10.2, 11.5, 12.5, 13.2, 10.8, 10.5,\n",
    "                          9.7, 11.8, 14.0],\n",
    "    'Максимальна швидкість, км/год': [250, 240, 230, 220, 210, 240, 230, 220, 210, 200, 205, 215, 240, 250, 240, 230,\n",
    "                                      220, 210, 235, 260],\n",
    "    'Вантажопідйомність, кг': [500, 550, 600, 450, 400, 550, 500, 480, 450, 400, 420, 460, 550, 600, 580, 520, 500, 400,\n",
    "                               550, 650]\n",
    "}\n",
    "\n",
    "df = pd.DataFrame(data)\n",
    "\n",
    "# Виділення факторів та залежної змінної\n",
    "X = df[['Росхід палива, л', 'Максимальна швидкість, км/год', 'Вантажопідйомність, кг']]\n",
    "y = df['Приблизна вартість, $']\n",
    "\n",
    "# Побудова моделі множинної регресії\n",
    "regression_model = LinearRegression()\n",
    "regression_model.fit(X, y)\n",
    "\n",
    "# Оцінка якості моделі\n",
    "y_pred = regression_model.predict(X)\n",
    "mse = mean_squared_error(y, y_pred)\n",
    "r2 = r2_score(y, y_pred)\n",
    "\n",
    "print(\"MSE:\", mse)\n",
    "print(\"Коефіцієнт детермінації (R^2):\", r2)\n"
   ]
  }
 ],
 "metadata": {
  "kernelspec": {
   "display_name": "Python 3 (ipykernel)",
   "language": "python",
   "name": "python3"
  },
  "language_info": {
   "codemirror_mode": {
    "name": "ipython",
    "version": 3
   },
   "file_extension": ".py",
   "mimetype": "text/x-python",
   "name": "python",
   "nbconvert_exporter": "python",
   "pygments_lexer": "ipython3",
   "version": "3.9.13"
  }
 },
 "nbformat": 4,
 "nbformat_minor": 5
}
