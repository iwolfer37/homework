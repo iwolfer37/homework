{
 "cells": [
  {
   "cell_type": "code",
   "execution_count": 32,
   "id": "b6b46481",
   "metadata": {},
   "outputs": [],
   "source": [
    "import pandas as pd\n",
    "from sklearn.linear_model import LinearRegression\n",
    "from sklearn.model_selection import cross_val_score\n",
    "from sklearn.metrics import mean_squared_error\n",
    "\n",
    "# DataFrame з попереднього ДЗ (students_scores)\n",
    "data = {\n",
    "    'Students': ['Іван Бобильов', 'Дональд Трамп', 'Ані Лорак', 'Анджей Дуда', 'Емінем', 'Джозеф Байден', 'Володимир Зеленський',\n",
    "                 'Валерій Залужний', 'Райан Рейнольдс', 'Михайло Федоров', 'Ден Рейнольдс', 'Андрій Єрмак', 'Меган Фокс',\n",
    "                 'Едді Мерфі', 'Анджеліна Джолі'],\n",
    "    'Aver Grade': [4.8, 3.2, 3.3, 4.3, 4.6, 4.0, 4.8, 4.7, 4.0, 4.0, 3.4, 3.3, 3.9, 4.1, 3.3],\n",
    "    'Grade all': [96, 56, 46, 86, 92, 80, 96, 94, 84, 80, 64, 48, 58, 82, 60],\n",
    "    'Examination_test': [1, 2, 3, 3, 1, 2, 1, 1, 1, 1, 2, 2, 2, 3, 3],\n",
    "    'Duration': [9, 1, 1, 9, 9, 8, 9, 9, 8, 8, 4, 1, 3, 8, 4]\n",
    "}\n",
    "\n",
    "df = pd.DataFrame(data)"
   ]
  },
  {
   "cell_type": "code",
   "execution_count": 33,
   "id": "9c7b2f3c",
   "metadata": {},
   "outputs": [],
   "source": [
    "X = df[['Grade all', 'Examination_test', 'Duration']]\n",
    "y = df['Aver Grade']\n",
    "\n",
    "# Побудова моделі простої регресії\n",
    "regression_model = LinearRegression()"
   ]
  },
  {
   "cell_type": "code",
   "execution_count": 34,
   "id": "42ff22ad",
   "metadata": {},
   "outputs": [
    {
     "name": "stdout",
     "output_type": "stream",
     "text": [
      "Коефіцієнт детермінації R^2: [0.77416606 0.89527002 0.6847417  0.59276632 0.14804362]\n",
      "Середній коефіцієнт детермінації R^2: 0.6189975433015754\n"
     ]
    }
   ],
   "source": [
    "# К-кратна крос-валідація\n",
    "k = 5\n",
    "scores = cross_val_score(regression_model, X, y, cv=k, scoring='r2')\n",
    "\n",
    "# Виведення результатів\n",
    "print(\"Коефіцієнт детермінації R^2:\", scores)\n",
    "print(\"Середній коефіцієнт детермінації R^2:\", scores.mean())\n",
    "\n",
    "# Чим ближче значення R^2 до 1, тим краще модель підходить до даних та краще пояснює варіацію залежної змінної."
   ]
  },
  {
   "cell_type": "code",
   "execution_count": 40,
   "id": "c5700a82",
   "metadata": {},
   "outputs": [],
   "source": [
    "# Завдання 2. Створення DataFrame з наданими даними\n",
    "data = {\n",
    "    'Марка й модель': ['Audi Q5', 'BMW X5', 'Mercedes GLE', 'Toyota RAV4', 'Honda CR-V', 'Ford Escape', 'Chevrolet Equinox',\n",
    "                       'Volkswagen Tiguan', 'Nissan Rogue', 'Hyundai Tucson', 'Kia Sportage', 'Mazda CX-5', 'Subaru Forester',\n",
    "                       'Lexus RX', 'Volvo XC90', 'Peugeot 3008', 'Renault Kadjar', 'Fiat 500X', 'Jeep Grand Cherokee',\n",
    "                       'Land Rover Range Rover Sport'],\n",
    "    'Приблизна вартість, $': [65000, 75000, 85000, 45000, 40000, 50000, 43000, 47000, 44000, 37000, 38000, 41000,\n",
    "                              60000, 73000, 80000, 57000, 50000, 37000, 70000, 90000],\n",
    "    'Росхід палива, л': [10.5, 11.2, 12.8, 9.5, 9.0, 10.0, 9.8, 9.2, 9.6, 9.4, 9.5, 10.2, 11.5, 12.5, 13.2, 10.8, 10.5,\n",
    "                          9.7, 11.8, 14.0],\n",
    "    'Максимальна швидкість, км/год': [250, 240, 230, 220, 210, 240, 230, 220, 210, 200, 205, 215, 240, 250, 240, 230,\n",
    "                                      220, 210, 235, 260],\n",
    "    'Вантажопідйомність, кг': [500, 550, 600, 450, 400, 550, 500, 480, 450, 400, 420, 460, 550, 600, 580, 520, 500, 400,\n",
    "                               550, 650]\n",
    "}\n",
    "\n",
    "df = pd.DataFrame(data)"
   ]
  },
  {
   "cell_type": "code",
   "execution_count": 41,
   "id": "9437c074",
   "metadata": {},
   "outputs": [],
   "source": [
    "# Виділення факторів та залежної змінної\n",
    "X = df[['Приблизна вартість, $', 'Максимальна швидкість, км/год', 'Вантажопідйомність, кг']]\n",
    "y = df['Росхід палива, л']\n",
    "\n",
    "# Побудова моделі множинної регресії\n",
    "regression_model = LinearRegression()"
   ]
  },
  {
   "cell_type": "code",
   "execution_count": 42,
   "id": "88471682",
   "metadata": {},
   "outputs": [
    {
     "name": "stdout",
     "output_type": "stream",
     "text": [
      "Квадратичне відхилення MSE: [0.98230905 0.82643583 0.21170145 0.3312992  0.30091978]\n",
      "Середнє квадратичне відхилення MSE: 0.5305330608596015\n"
     ]
    }
   ],
   "source": [
    "# К-кратна крос-валідація з використанням MSE\n",
    "k = 5  # Кількість фолдів\n",
    "scores = cross_val_score(regression_model, X, y, cv=k, scoring='neg_mean_squared_error')\n",
    "\n",
    "# Перетворення значень MSE на додатні\n",
    "mse_scores = -scores\n",
    "\n",
    "# Виведення результатів\n",
    "print(\"Квадратичне відхилення MSE:\", mse_scores)\n",
    "print(\"Середнє квадратичне відхилення MSE:\", mse_scores.mean())"
   ]
  },
  {
   "cell_type": "code",
   "execution_count": null,
   "id": "aa20a357",
   "metadata": {},
   "outputs": [],
   "source": []
  }
 ],
 "metadata": {
  "kernelspec": {
   "display_name": "Python 3 (ipykernel)",
   "language": "python",
   "name": "python3"
  },
  "language_info": {
   "codemirror_mode": {
    "name": "ipython",
    "version": 3
   },
   "file_extension": ".py",
   "mimetype": "text/x-python",
   "name": "python",
   "nbconvert_exporter": "python",
   "pygments_lexer": "ipython3",
   "version": "3.9.13"
  }
 },
 "nbformat": 4,
 "nbformat_minor": 5
}
