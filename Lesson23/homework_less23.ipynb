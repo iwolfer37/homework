{
 "cells": [
  {
   "cell_type": "code",
   "execution_count": 31,
   "id": "babf44fe",
   "metadata": {},
   "outputs": [
    {
     "name": "stdout",
     "output_type": "stream",
     "text": [
      "Ймовірність того, що док. складений 1 ек. за умови, що він має велику похибку: 0.25000000000000006\n"
     ]
    }
   ],
   "source": [
    "# Завдання 1\n",
    "ecPA = 0.1\n",
    "ecPB = 0.2\n",
    "P_A = 40 / (40 + 60)\n",
    "P_B = 60 / (40 + 60)\n",
    "\n",
    "# Обчислення P(C)\n",
    "P_C = P_A * ecPA + P_B * ecPB\n",
    "\n",
    "# Обчислення P(A ∩ C)\n",
    "P_A_intersection_C = P_A * ecPA\n",
    "\n",
    "# Обчислення P(A | C)\n",
    "result = P_A_intersection_C / P_C\n",
    "\n",
    "print(\"Ймовірність того, що док. складений 1 ек. за умови, що він має велику похибку:\", result)"
   ]
  },
  {
   "cell_type": "code",
   "execution_count": 38,
   "id": "97bce8f0",
   "metadata": {},
   "outputs": [
    {
     "name": "stdout",
     "output_type": "stream",
     "text": [
      "Очікуваний прибуток X: 1350.0\n",
      "Очікуваний прибуток Y: 1350.0\n"
     ]
    }
   ],
   "source": [
    "# Завдання 2\n",
    "X_values = [1000, 1500, 2000]\n",
    "X_probs = [0.5, 0.3, 0.2]\n",
    "Y_values = [1000, 1500, 1750]\n",
    "Y_probs = [0.4, 0.4, 0.2]\n",
    "\n",
    "# Рахуємо очік. прибуток\n",
    "expected_X = sum([x * p for x, p in zip(X_values, X_probs)])\n",
    "expected_Y = sum([y * p for y, p in zip(Y_values, Y_probs)])\n",
    "\n",
    "print(\"Очікуваний прибуток X:\", expected_X)\n",
    "print(\"Очікуваний прибуток Y:\", expected_Y)"
   ]
  },
  {
   "cell_type": "code",
   "execution_count": 39,
   "id": "a8823022",
   "metadata": {},
   "outputs": [
    {
     "name": "stdout",
     "output_type": "stream",
     "text": [
      "Дисперсія для товару X: 152500.0\n",
      "Дисперсія для товару Y: 90000.0\n"
     ]
    }
   ],
   "source": [
    "# Рахуємо дисперсію (сума всіх варіантів (ймовірнисть * (прибуток - очік. прибуток)^2)\n",
    "x = [1000, 1500, 2000]\n",
    "p = [0.5, 0.3, 0.2]\n",
    "expected_value = sum([x[i]*p[i] for i in range(len(x))])\n",
    "variance1 = sum([p[i]*(x[i]-expected_value)**2 for i in range(len(x))])\n",
    "\n",
    "y = [1000, 1500, 1750]\n",
    "p = [0.4, 0.4, 0.2]\n",
    "expected_value = sum([y[i]*p[i] for i in range(len(y))])\n",
    "variance2 = sum([p[i]*(y[i]-expected_value)**2 for i in range(len(y))])\n",
    "\n",
    "print(\"Дисперсія для товару X:\", variance1)\n",
    "print(\"Дисперсія для товару Y:\", variance2)"
   ]
  },
  {
   "cell_type": "code",
   "execution_count": 40,
   "id": "98c40a01",
   "metadata": {},
   "outputs": [
    {
     "name": "stdout",
     "output_type": "stream",
     "text": [
      "Середнє квадратичне відхилення для товару X: 390.51248379533274\n",
      "Середнє квадратичне відхилення для товару Y: 300.0\n"
     ]
    }
   ],
   "source": [
    "# Також Ви на лекції (під кінець) говорили за середне квадратичне відхилення, квадратного кореня дисперсії:\n",
    "std_dev_X = variance1 ** 0.5\n",
    "std_dev_Y = variance2 ** 0.5\n",
    "print(\"Середнє квадратичне відхилення для товару X:\", std_dev_X)\n",
    "print(\"Середнє квадратичне відхилення для товару Y:\", std_dev_Y)"
   ]
  },
  {
   "cell_type": "code",
   "execution_count": 42,
   "id": "ff7d81e4",
   "metadata": {},
   "outputs": [
    {
     "name": "stdout",
     "output_type": "stream",
     "text": [
      "Коефіцієнт ризику для товару X: 28.92685065150613 %\n",
      "Коефіцієнт ризику для товару Y: 22.22222222222222 %\n"
     ]
    }
   ],
   "source": [
    "# а це ми оцінюємо у % ризик\n",
    "CV_X = (std_dev_X / expected_X) * 100\n",
    "CV_Y = (std_dev_Y / expected_Y) * 100\n",
    "print(\"Коефіцієнт ризику для товару X:\", CV_X, \"%\")\n",
    "print(\"Коефіцієнт ризику для товару Y:\", CV_Y, \"%\")"
   ]
  },
  {
   "cell_type": "code",
   "execution_count": null,
   "id": "e6960508",
   "metadata": {},
   "outputs": [],
   "source": [
    "# Будь-який підприємець мінімілізує свій ризик, так як очікуваний прибуток в двох випадках = 1350\n",
    "# А ризик нижчий для товару Y, тому рекомендація виходити на ринок з Y.\n"
   ]
  },
  {
   "cell_type": "code",
   "execution_count": null,
   "id": "160c7418",
   "metadata": {},
   "outputs": [],
   "source": []
  },
  {
   "cell_type": "code",
   "execution_count": null,
   "id": "62db03be",
   "metadata": {},
   "outputs": [],
   "source": []
  },
  {
   "cell_type": "code",
   "execution_count": null,
   "id": "bda13cad",
   "metadata": {},
   "outputs": [],
   "source": []
  }
 ],
 "metadata": {
  "kernelspec": {
   "display_name": "Python 3 (ipykernel)",
   "language": "python",
   "name": "python3"
  },
  "language_info": {
   "codemirror_mode": {
    "name": "ipython",
    "version": 3
   },
   "file_extension": ".py",
   "mimetype": "text/x-python",
   "name": "python",
   "nbconvert_exporter": "python",
   "pygments_lexer": "ipython3",
   "version": "3.9.13"
  }
 },
 "nbformat": 4,
 "nbformat_minor": 5
}
