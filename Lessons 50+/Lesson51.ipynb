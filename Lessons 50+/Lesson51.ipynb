{
 "cells": [
  {
   "cell_type": "code",
   "execution_count": 7,
   "id": "5002f00d",
   "metadata": {},
   "outputs": [],
   "source": [
    "import numpy as np\n",
    "from scipy.stats import norm"
   ]
  },
  {
   "cell_type": "code",
   "execution_count": 8,
   "id": "6ed34c57",
   "metadata": {},
   "outputs": [],
   "source": [
    "# Створімо прикладові дані\n",
    "np.random.seed(0)\n",
    "data = np.concatenate([np.random.normal(13, 0.5, 8000), np.random.normal(12, 0.7, 5000)])\n",
    "\n",
    "# Ініціалізуємо параметри\n",
    "mu1, mu2 = 12.5, 12.5\n",
    "sigma1, sigma2 = 1, 1\n",
    "pi_1 = 0.5"
   ]
  },
  {
   "cell_type": "code",
   "execution_count": 9,
   "id": "72ea8f22",
   "metadata": {},
   "outputs": [
    {
     "name": "stdout",
     "output_type": "stream",
     "text": [
      "Завод 1: 12.108765535907985 0.7349178117265578\n",
      "Завод 2: 13.024559107031585 0.479062261031416\n"
     ]
    }
   ],
   "source": [
    "mu1, mu2 = 12, 13\n",
    "\n",
    "# EM-алгоритм\n",
    "for _ in range(100):\n",
    "    # E-крок\n",
    "    responsibility1 = pi_1 * norm.pdf(data, mu1, sigma1)\n",
    "    responsibility2 = (1 - pi_1) * norm.pdf(data, mu2, sigma2)\n",
    "    total = responsibility1 + responsibility2\n",
    "    responsibility1 /= total\n",
    "    responsibility2 /= total\n",
    "    \n",
    "    # M-крок\n",
    "    mu1 = np.sum(responsibility1 * data) / np.sum(responsibility1)\n",
    "    mu2 = np.sum(responsibility2 * data) / np.sum(responsibility2)\n",
    "    sigma1 = np.sqrt(np.sum(responsibility1 * (data - mu1)**2) / np.sum(responsibility1))\n",
    "    sigma2 = np.sqrt(np.sum(responsibility2 * (data - mu2)**2) / np.sum(responsibility2))\n",
    "    pi_1 = np.mean(responsibility1)\n",
    "\n",
    "print(\"Завод 1:\", mu1, sigma1)\n",
    "print(\"Завод 2:\", mu2, sigma2)"
   ]
  },
  {
   "cell_type": "code",
   "execution_count": 12,
   "id": "d19496f9",
   "metadata": {},
   "outputs": [
    {
     "name": "stdout",
     "output_type": "stream",
     "text": [
      "Ймовірність, що вироби на 12.5 кг виготовлятся на 1-му заводі: 0.465\n",
      "Ймовірність, що вироби на 12.5 кг виготовлятся на 2-му заводі: 0.535\n"
     ]
    }
   ],
   "source": [
    "\n",
    "# Для визначення ймовірності використовуємо оцінені параметри\n",
    "def predict_factory(weight):\n",
    "    p1 = pi_1 * norm.pdf(weight, mu1, sigma1)\n",
    "    p2 = (1 - pi_1) * norm.pdf(weight, mu2, sigma2)\n",
    "    total = p1 + p2\n",
    "    return p1/total, p2/total\n",
    "\n",
    "weight = 12.5\n",
    "prob1, prob2 = predict_factory(weight)\n",
    "print(f\"Ймовірність, що вироби на {weight} кг виготовлятся на 1-му заводі: {prob1:.3f}\")\n",
    "print(f\"Ймовірність, що вироби на {weight} кг виготовлятся на 2-му заводі: {prob2:.3f}\")"
   ]
  },
  {
   "cell_type": "code",
   "execution_count": null,
   "id": "97803c55",
   "metadata": {},
   "outputs": [],
   "source": []
  }
 ],
 "metadata": {
  "kernelspec": {
   "display_name": "Python 3 (ipykernel)",
   "language": "python",
   "name": "python3"
  },
  "language_info": {
   "codemirror_mode": {
    "name": "ipython",
    "version": 3
   },
   "file_extension": ".py",
   "mimetype": "text/x-python",
   "name": "python",
   "nbconvert_exporter": "python",
   "pygments_lexer": "ipython3",
   "version": "3.9.13"
  }
 },
 "nbformat": 4,
 "nbformat_minor": 5
}
