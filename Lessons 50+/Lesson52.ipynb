{
 "cells": [
  {
   "cell_type": "code",
   "execution_count": 3,
   "id": "86f9ea8f",
   "metadata": {},
   "outputs": [],
   "source": [
    "from sklearn.datasets import load_iris\n",
    "from sklearn.model_selection import train_test_split\n",
    "from sklearn.naive_bayes import GaussianNB\n",
    "from sklearn.metrics import accuracy_score, precision_score, recall_score, f1_score"
   ]
  },
  {
   "cell_type": "code",
   "execution_count": 4,
   "id": "225836ea",
   "metadata": {},
   "outputs": [],
   "source": [
    "# грузим датасет Iris\n",
    "iris = load_iris()\n",
    "X, y = iris.data, iris.target\n",
    "\n",
    "# Розділяємо дані\n",
    "X_train, X_test, y_train, y_test = train_test_split(X, y, test_size=0.2, random_state=42)"
   ]
  },
  {
   "cell_type": "code",
   "execution_count": 5,
   "id": "ecbfdf5d",
   "metadata": {},
   "outputs": [],
   "source": [
    "# Побудова та навчання моделі GaussianNB\n",
    "model = GaussianNB()\n",
    "model.fit(X_train, y_train)\n",
    "\n",
    "# Прогнозування на тестовій вибірці\n",
    "y_pred = model.predict(X_test)"
   ]
  },
  {
   "cell_type": "code",
   "execution_count": 6,
   "id": "dfa9e30e",
   "metadata": {},
   "outputs": [
    {
     "name": "stdout",
     "output_type": "stream",
     "text": [
      "Точність (Accuracy): 1.0\n",
      "Точність (Precision): 1.0\n",
      "Повнота (Recall): 1.0\n",
      "F1-показник (F1 Score): 1.0\n"
     ]
    }
   ],
   "source": [
    "# Обрахунок метрик\n",
    "acc = accuracy_score(y_test, y_pred)\n",
    "prec = precision_score(y_test, y_pred, average='macro')\n",
    "rec = recall_score(y_test, y_pred, average='macro')\n",
    "f1 = f1_score(y_test, y_pred, average='macro')\n",
    "\n",
    "print(f\"Точність (Accuracy): {acc}\")\n",
    "print(f\"Точність (Precision): {prec}\")\n",
    "print(f\"Повнота (Recall): {rec}\")\n",
    "print(f\"F1-показник (F1 Score): {f1}\")"
   ]
  },
  {
   "cell_type": "code",
   "execution_count": null,
   "id": "037727aa",
   "metadata": {},
   "outputs": [],
   "source": [
    "Оцінка 1.0 для всіх цих метрик означають, що модель дуже точно класифікує дані"
   ]
  }
 ],
 "metadata": {
  "kernelspec": {
   "display_name": "Python 3 (ipykernel)",
   "language": "python",
   "name": "python3"
  },
  "language_info": {
   "codemirror_mode": {
    "name": "ipython",
    "version": 3
   },
   "file_extension": ".py",
   "mimetype": "text/x-python",
   "name": "python",
   "nbconvert_exporter": "python",
   "pygments_lexer": "ipython3",
   "version": "3.9.13"
  }
 },
 "nbformat": 4,
 "nbformat_minor": 5
}
