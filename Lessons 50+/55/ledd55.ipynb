{
 "cells": [
  {
   "cell_type": "code",
   "execution_count": 1,
   "id": "b9770a18",
   "metadata": {},
   "outputs": [
    {
     "name": "stderr",
     "output_type": "stream",
     "text": [
      "/opt/anaconda3/lib/python3.9/site-packages/torchvision/io/image.py:13: UserWarning: Failed to load image Python extension: 'dlopen(/opt/anaconda3/lib/python3.9/site-packages/torchvision/image.so, 6): Library not loaded: @rpath/libpng16.16.dylib\n",
      "  Referenced from: /opt/anaconda3/lib/python3.9/site-packages/torchvision/image.so\n",
      "  Reason: Incompatible library version: image.so requires version 56.0.0 or later, but libpng16.16.dylib provides version 54.0.0'If you don't plan on using image functionality from `torchvision.io`, you can ignore this warning. Otherwise, there might be something wrong with your environment. Did you have `libjpeg` or `libpng` installed before building `torchvision` from source?\n",
      "  warn(\n"
     ]
    }
   ],
   "source": [
    "import torch\n",
    "import torch.nn as nn\n",
    "import torchvision\n",
    "import torchvision.transforms as transforms\n",
    "import matplotlib.pyplot as plt\n",
    "import warnings\n",
    "\n",
    "warnings.filterwarnings(\"ignore\")"
   ]
  },
  {
   "cell_type": "code",
   "execution_count": 2,
   "id": "d547f99a",
   "metadata": {},
   "outputs": [],
   "source": [
    "# Гіперпараметри\n",
    "z_dim = 100\n",
    "image_dim = 28 * 28\n",
    "lr = 0.0002\n",
    "batch_size = 128\n",
    "num_epochs = 107"
   ]
  },
  {
   "cell_type": "code",
   "execution_count": 3,
   "id": "0b535a9d",
   "metadata": {},
   "outputs": [
    {
     "name": "stdout",
     "output_type": "stream",
     "text": [
      "Downloading http://yann.lecun.com/exdb/mnist/train-images-idx3-ubyte.gz\n",
      "Downloading http://yann.lecun.com/exdb/mnist/train-images-idx3-ubyte.gz to ./data/MNIST/raw/train-images-idx3-ubyte.gz\n"
     ]
    },
    {
     "name": "stderr",
     "output_type": "stream",
     "text": [
      "100%|████████████████████████████| 9912422/9912422 [00:01<00:00, 9341962.15it/s]\n"
     ]
    },
    {
     "name": "stdout",
     "output_type": "stream",
     "text": [
      "Extracting ./data/MNIST/raw/train-images-idx3-ubyte.gz to ./data/MNIST/raw\n",
      "\n",
      "Downloading http://yann.lecun.com/exdb/mnist/train-labels-idx1-ubyte.gz\n",
      "Downloading http://yann.lecun.com/exdb/mnist/train-labels-idx1-ubyte.gz to ./data/MNIST/raw/train-labels-idx1-ubyte.gz\n"
     ]
    },
    {
     "name": "stderr",
     "output_type": "stream",
     "text": [
      "100%|███████████████████████████████| 28881/28881 [00:00<00:00, 14438104.15it/s]"
     ]
    },
    {
     "name": "stdout",
     "output_type": "stream",
     "text": [
      "Extracting ./data/MNIST/raw/train-labels-idx1-ubyte.gz to ./data/MNIST/raw\n",
      "\n",
      "Downloading http://yann.lecun.com/exdb/mnist/t10k-images-idx3-ubyte.gz\n"
     ]
    },
    {
     "name": "stderr",
     "output_type": "stream",
     "text": [
      "\n"
     ]
    },
    {
     "name": "stdout",
     "output_type": "stream",
     "text": [
      "Downloading http://yann.lecun.com/exdb/mnist/t10k-images-idx3-ubyte.gz to ./data/MNIST/raw/t10k-images-idx3-ubyte.gz\n"
     ]
    },
    {
     "name": "stderr",
     "output_type": "stream",
     "text": [
      "100%|████████████████████████████| 1648877/1648877 [00:00<00:00, 6836823.53it/s]\n"
     ]
    },
    {
     "name": "stdout",
     "output_type": "stream",
     "text": [
      "Extracting ./data/MNIST/raw/t10k-images-idx3-ubyte.gz to ./data/MNIST/raw\n",
      "\n",
      "Downloading http://yann.lecun.com/exdb/mnist/t10k-labels-idx1-ubyte.gz\n",
      "Downloading http://yann.lecun.com/exdb/mnist/t10k-labels-idx1-ubyte.gz to ./data/MNIST/raw/t10k-labels-idx1-ubyte.gz\n"
     ]
    },
    {
     "name": "stderr",
     "output_type": "stream",
     "text": [
      "100%|██████████████████████████████████| 4542/4542 [00:00<00:00, 4125276.91it/s]"
     ]
    },
    {
     "name": "stdout",
     "output_type": "stream",
     "text": [
      "Extracting ./data/MNIST/raw/t10k-labels-idx1-ubyte.gz to ./data/MNIST/raw\n",
      "\n"
     ]
    },
    {
     "name": "stderr",
     "output_type": "stream",
     "text": [
      "\n"
     ]
    }
   ],
   "source": [
    "# Завантаження даних MNIST\n",
    "transform = transforms.Compose([\n",
    "    transforms.ToTensor(),\n",
    "    transforms.Normalize((0.5,), (0.5,))\n",
    "])\n",
    "\n",
    "train_dataset = torchvision.datasets.MNIST(root='./data', train=True, transform=transform, download=True)\n",
    "train_loader = torch.utils.data.DataLoader(dataset=train_dataset, batch_size=batch_size, shuffle=True)"
   ]
  },
  {
   "cell_type": "code",
   "execution_count": 4,
   "id": "808b74e9",
   "metadata": {},
   "outputs": [],
   "source": [
    "# Генератор\n",
    "class Generator(nn.Module):\n",
    "    def __init__(self):\n",
    "        super(Generator, self).__init__()\n",
    "        self.model = nn.Sequential(\n",
    "            nn.Linear(z_dim, 128),\n",
    "            nn.ReLU(),\n",
    "            nn.Linear(128, 256),\n",
    "            nn.ReLU(),\n",
    "            nn.Linear(256, image_dim),\n",
    "            nn.Tanh()\n",
    "        )\n",
    "    def forward(self, x):\n",
    "        return self.model(x)"
   ]
  },
  {
   "cell_type": "code",
   "execution_count": 5,
   "id": "242f4f3b",
   "metadata": {},
   "outputs": [],
   "source": [
    "# Дискримінатор\n",
    "class Discriminator(nn.Module):\n",
    "    def __init__(self):\n",
    "        super(Discriminator, self).__init__()\n",
    "        self.model = nn.Sequential(\n",
    "            nn.Linear(image_dim, 256),\n",
    "            nn.LeakyReLU(0.2),\n",
    "            nn.Linear(256, 128),\n",
    "            nn.LeakyReLU(0.2),\n",
    "            nn.Linear(128, 1),\n",
    "            nn.Sigmoid()\n",
    "        )\n",
    "    def forward(self, x):\n",
    "        return self.model(x)"
   ]
  },
  {
   "cell_type": "code",
   "execution_count": 6,
   "id": "aa1df40c",
   "metadata": {},
   "outputs": [],
   "source": [
    "# Ініціалізація моделей та оптимізаторів\n",
    "generator = Generator()\n",
    "discriminator = Discriminator()\n",
    "criterion = nn.BCELoss()\n",
    "optimizer_g = torch.optim.Adam(generator.parameters(), lr=lr)\n",
    "optimizer_d = torch.optim.Adam(discriminator.parameters(), lr=lr)"
   ]
  },
  {
   "cell_type": "code",
   "execution_count": 7,
   "id": "202ebc60",
   "metadata": {},
   "outputs": [
    {
     "name": "stdout",
     "output_type": "stream",
     "text": [
      "Епоха [1/107], Дискримінатора Втрати: 0.0623, Генератор Втрати: 4.3288\n",
      "Епоха [2/107], Дискримінатора Втрати: 0.1370, Генератор Втрати: 3.2019\n",
      "Епоха [3/107], Дискримінатора Втрати: 0.2837, Генератор Втрати: 4.0105\n",
      "Епоха [4/107], Дискримінатора Втрати: 0.5485, Генератор Втрати: 3.4381\n",
      "Епоха [5/107], Дискримінатора Втрати: 0.3791, Генератор Втрати: 3.8976\n",
      "Епоха [6/107], Дискримінатора Втрати: 1.4746, Генератор Втрати: 1.5502\n",
      "Епоха [7/107], Дискримінатора Втрати: 0.2603, Генератор Втрати: 3.4890\n",
      "Епоха [8/107], Дискримінатора Втрати: 0.3154, Генератор Втрати: 3.2948\n",
      "Епоха [9/107], Дискримінатора Втрати: 0.3650, Генератор Втрати: 3.7485\n",
      "Епоха [10/107], Дискримінатора Втрати: 0.1208, Генератор Втрати: 4.8346\n",
      "Епоха [11/107], Дискримінатора Втрати: 0.2786, Генератор Втрати: 4.3797\n",
      "Епоха [12/107], Дискримінатора Втрати: 0.0537, Генератор Втрати: 5.6291\n",
      "Епоха [13/107], Дискримінатора Втрати: 0.2157, Генератор Втрати: 3.5512\n",
      "Епоха [14/107], Дискримінатора Втрати: 0.2102, Генератор Втрати: 6.0768\n",
      "Епоха [15/107], Дискримінатора Втрати: 0.2238, Генератор Втрати: 3.9114\n",
      "Епоха [16/107], Дискримінатора Втрати: 0.1619, Генератор Втрати: 5.1299\n",
      "Епоха [17/107], Дискримінатора Втрати: 0.3364, Генератор Втрати: 4.7676\n",
      "Епоха [18/107], Дискримінатора Втрати: 0.3322, Генератор Втрати: 4.0352\n",
      "Епоха [19/107], Дискримінатора Втрати: 0.0862, Генератор Втрати: 4.7878\n",
      "Епоха [20/107], Дискримінатора Втрати: 0.1169, Генератор Втрати: 5.7950\n",
      "Епоха [21/107], Дискримінатора Втрати: 0.2274, Генератор Втрати: 6.8807\n",
      "Епоха [22/107], Дискримінатора Втрати: 0.4275, Генератор Втрати: 3.8888\n",
      "Епоха [23/107], Дискримінатора Втрати: 0.1583, Генератор Втрати: 5.4767\n",
      "Епоха [24/107], Дискримінатора Втрати: 0.1464, Генератор Втрати: 6.4869\n",
      "Епоха [25/107], Дискримінатора Втрати: 0.2373, Генератор Втрати: 3.7489\n",
      "Епоха [26/107], Дискримінатора Втрати: 0.3209, Генератор Втрати: 4.4779\n",
      "Епоха [27/107], Дискримінатора Втрати: 0.2276, Генератор Втрати: 4.7676\n",
      "Епоха [28/107], Дискримінатора Втрати: 0.3408, Генератор Втрати: 3.6658\n",
      "Епоха [29/107], Дискримінатора Втрати: 0.3012, Генератор Втрати: 5.3238\n",
      "Епоха [30/107], Дискримінатора Втрати: 0.3647, Генератор Втрати: 6.1953\n",
      "Епоха [31/107], Дискримінатора Втрати: 0.3106, Генератор Втрати: 6.3482\n",
      "Епоха [32/107], Дискримінатора Втрати: 0.1492, Генератор Втрати: 4.9817\n",
      "Епоха [33/107], Дискримінатора Втрати: 0.1422, Генератор Втрати: 5.0205\n",
      "Епоха [34/107], Дискримінатора Втрати: 0.2202, Генератор Втрати: 4.7470\n",
      "Епоха [35/107], Дискримінатора Втрати: 0.1711, Генератор Втрати: 6.1369\n",
      "Епоха [36/107], Дискримінатора Втрати: 0.4649, Генератор Втрати: 3.6022\n",
      "Епоха [37/107], Дискримінатора Втрати: 0.2664, Генератор Втрати: 4.2470\n",
      "Епоха [38/107], Дискримінатора Втрати: 0.3205, Генератор Втрати: 5.5728\n",
      "Епоха [39/107], Дискримінатора Втрати: 0.4007, Генератор Втрати: 3.4483\n",
      "Епоха [40/107], Дискримінатора Втрати: 0.2581, Генератор Втрати: 3.8560\n",
      "Епоха [41/107], Дискримінатора Втрати: 0.4224, Генератор Втрати: 3.7783\n",
      "Епоха [42/107], Дискримінатора Втрати: 0.2496, Генератор Втрати: 5.4772\n",
      "Епоха [43/107], Дискримінатора Втрати: 0.4263, Генератор Втрати: 3.7038\n",
      "Епоха [44/107], Дискримінатора Втрати: 0.2941, Генератор Втрати: 5.1010\n",
      "Епоха [45/107], Дискримінатора Втрати: 0.2945, Генератор Втрати: 5.3068\n",
      "Епоха [46/107], Дискримінатора Втрати: 0.3471, Генератор Втрати: 4.7142\n",
      "Епоха [47/107], Дискримінатора Втрати: 0.3946, Генератор Втрати: 3.6459\n",
      "Епоха [48/107], Дискримінатора Втрати: 0.2296, Генератор Втрати: 3.8036\n",
      "Епоха [49/107], Дискримінатора Втрати: 0.2284, Генератор Втрати: 4.5473\n",
      "Епоха [50/107], Дискримінатора Втрати: 0.2082, Генератор Втрати: 4.4090\n",
      "Епоха [51/107], Дискримінатора Втрати: 0.4195, Генератор Втрати: 4.2376\n",
      "Епоха [52/107], Дискримінатора Втрати: 0.4466, Генератор Втрати: 3.5569\n",
      "Епоха [53/107], Дискримінатора Втрати: 0.4080, Генератор Втрати: 3.5198\n",
      "Епоха [54/107], Дискримінатора Втрати: 0.4105, Генератор Втрати: 4.4595\n",
      "Епоха [55/107], Дискримінатора Втрати: 0.4420, Генератор Втрати: 3.5792\n",
      "Епоха [56/107], Дискримінатора Втрати: 0.2898, Генератор Втрати: 3.6928\n",
      "Епоха [57/107], Дискримінатора Втрати: 0.4379, Генератор Втрати: 2.0796\n",
      "Епоха [58/107], Дискримінатора Втрати: 0.3800, Генератор Втрати: 2.8319\n",
      "Епоха [59/107], Дискримінатора Втрати: 0.3991, Генератор Втрати: 2.9307\n",
      "Епоха [60/107], Дискримінатора Втрати: 0.3928, Генератор Втрати: 2.7154\n",
      "Епоха [61/107], Дискримінатора Втрати: 0.5760, Генератор Втрати: 3.7577\n",
      "Епоха [62/107], Дискримінатора Втрати: 0.5709, Генератор Втрати: 2.6485\n",
      "Епоха [63/107], Дискримінатора Втрати: 0.6090, Генератор Втрати: 3.5863\n",
      "Епоха [64/107], Дискримінатора Втрати: 0.2018, Генератор Втрати: 3.7962\n",
      "Епоха [65/107], Дискримінатора Втрати: 0.1553, Генератор Втрати: 5.8310\n",
      "Епоха [66/107], Дискримінатора Втрати: 0.3008, Генератор Втрати: 5.5581\n",
      "Епоха [67/107], Дискримінатора Втрати: 0.4999, Генератор Втрати: 3.6608\n",
      "Епоха [68/107], Дискримінатора Втрати: 0.3435, Генератор Втрати: 2.8189\n",
      "Епоха [69/107], Дискримінатора Втрати: 0.6739, Генератор Втрати: 2.8918\n",
      "Епоха [70/107], Дискримінатора Втрати: 0.5204, Генератор Втрати: 3.0927\n",
      "Епоха [71/107], Дискримінатора Втрати: 0.5901, Генератор Втрати: 1.8241\n",
      "Епоха [72/107], Дискримінатора Втрати: 0.5282, Генератор Втрати: 2.8028\n",
      "Епоха [73/107], Дискримінатора Втрати: 0.5717, Генератор Втрати: 3.2494\n",
      "Епоха [74/107], Дискримінатора Втрати: 0.5633, Генератор Втрати: 2.3890\n",
      "Епоха [75/107], Дискримінатора Втрати: 0.5594, Генератор Втрати: 3.1858\n",
      "Епоха [76/107], Дискримінатора Втрати: 0.8050, Генератор Втрати: 2.6032\n",
      "Епоха [77/107], Дискримінатора Втрати: 0.6311, Генератор Втрати: 2.0376\n",
      "Епоха [78/107], Дискримінатора Втрати: 0.4723, Генератор Втрати: 1.8752\n",
      "Епоха [79/107], Дискримінатора Втрати: 0.6142, Генератор Втрати: 1.8489\n",
      "Епоха [80/107], Дискримінатора Втрати: 0.4371, Генератор Втрати: 2.7425\n",
      "Епоха [81/107], Дискримінатора Втрати: 0.3798, Генератор Втрати: 3.9073\n",
      "Епоха [82/107], Дискримінатора Втрати: 0.4188, Генератор Втрати: 2.9260\n",
      "Епоха [83/107], Дискримінатора Втрати: 0.4673, Генератор Втрати: 3.6563\n",
      "Епоха [84/107], Дискримінатора Втрати: 0.6345, Генератор Втрати: 2.7844\n",
      "Епоха [85/107], Дискримінатора Втрати: 0.6805, Генератор Втрати: 3.1838\n",
      "Епоха [86/107], Дискримінатора Втрати: 0.4595, Генератор Втрати: 3.2651\n",
      "Епоха [87/107], Дискримінатора Втрати: 0.5315, Генератор Втрати: 2.1229\n",
      "Епоха [88/107], Дискримінатора Втрати: 0.6056, Генератор Втрати: 2.5750\n",
      "Епоха [89/107], Дискримінатора Втрати: 0.5026, Генератор Втрати: 2.4012\n",
      "Епоха [90/107], Дискримінатора Втрати: 0.5539, Генератор Втрати: 2.4047\n",
      "Епоха [91/107], Дискримінатора Втрати: 0.6117, Генератор Втрати: 2.3762\n",
      "Епоха [92/107], Дискримінатора Втрати: 0.5283, Генератор Втрати: 2.4205\n",
      "Епоха [93/107], Дискримінатора Втрати: 0.6763, Генератор Втрати: 1.7202\n",
      "Епоха [94/107], Дискримінатора Втрати: 0.7566, Генератор Втрати: 2.2774\n",
      "Епоха [95/107], Дискримінатора Втрати: 0.5848, Генератор Втрати: 1.9272\n",
      "Епоха [96/107], Дискримінатора Втрати: 0.9170, Генератор Втрати: 2.2329\n",
      "Епоха [97/107], Дискримінатора Втрати: 0.8579, Генератор Втрати: 2.9087\n",
      "Епоха [98/107], Дискримінатора Втрати: 0.6964, Генератор Втрати: 1.6359\n",
      "Епоха [99/107], Дискримінатора Втрати: 0.6563, Генератор Втрати: 2.7404\n",
      "Епоха [100/107], Дискримінатора Втрати: 0.5557, Генератор Втрати: 2.5253\n",
      "Епоха [101/107], Дискримінатора Втрати: 0.4318, Генератор Втрати: 3.0492\n",
      "Епоха [102/107], Дискримінатора Втрати: 0.5740, Генератор Втрати: 2.7004\n",
      "Епоха [103/107], Дискримінатора Втрати: 0.4841, Генератор Втрати: 2.3324\n",
      "Епоха [104/107], Дискримінатора Втрати: 0.7095, Генератор Втрати: 3.2741\n",
      "Епоха [105/107], Дискримінатора Втрати: 0.5789, Генератор Втрати: 2.6769\n",
      "Епоха [106/107], Дискримінатора Втрати: 0.6604, Генератор Втрати: 2.3021\n",
      "Епоха [107/107], Дискримінатора Втрати: 0.7470, Генератор Втрати: 2.0813\n"
     ]
    }
   ],
   "source": [
    "# Навчання\n",
    "for epoch in range(num_epochs):\n",
    "    for real_images, _ in train_loader:\n",
    "        batch_size = real_images.shape[0]\n",
    "        real_labels = torch.ones(batch_size, 1)\n",
    "        fake_labels = torch.zeros(batch_size, 1)\n",
    "        \n",
    "        # Навчання дискримінатора\n",
    "        optimizer_d.zero_grad()\n",
    "        real_outputs = discriminator(real_images.view(batch_size, -1))\n",
    "        real_loss = criterion(real_outputs, real_labels)\n",
    "        \n",
    "        z = torch.randn(batch_size, z_dim)\n",
    "        fake_images = generator(z)\n",
    "        fake_outputs = discriminator(fake_images.detach())\n",
    "        fake_loss = criterion(fake_outputs, fake_labels)\n",
    "        \n",
    "        d_loss = real_loss + fake_loss\n",
    "        d_loss.backward()\n",
    "        optimizer_d.step()\n",
    "        \n",
    "        # Навчання генератора\n",
    "        optimizer_g.zero_grad()\n",
    "        fake_outputs = discriminator(fake_images)\n",
    "        g_loss = criterion(fake_outputs, real_labels)\n",
    "        g_loss.backward()\n",
    "        optimizer_g.step()\n",
    "\n",
    "    print(f\"Епоха [{epoch+1}/{num_epochs}], Дискримінатора Втрати: {d_loss.item():.4f}, Генератор Втрати: {g_loss.item():.4f}\")"
   ]
  },
  {
   "cell_type": "code",
   "execution_count": 8,
   "id": "965a739d",
   "metadata": {},
   "outputs": [
    {
     "data": {
      "image/png": "[encoded data removed]",
      "text/plain": [
       "<Figure size 1000x100 with 10 Axes>"
      ]
     },
     "metadata": {},
     "output_type": "display_data"
    }
   ],
   "source": [
    "# Генерація та відображення зображень\n",
    "z = torch.randn(10, z_dim)\n",
    "generated_images = generator(z)\n",
    "\n",
    "fig, axes = plt.subplots(1, 10, figsize=(10, 1))\n",
    "for i in range(10):\n",
    "    axes[i].imshow(generated_images[i].detach().view(28, 28), cmap='gray')\n",
    "    axes[i].axis('off')\n",
    "plt.show()"
   ]
  },
  {
   "cell_type": "code",
   "execution_count": null,
   "id": "2d9189cb",
   "metadata": {},
   "outputs": [],
   "source": []
  }
 ],
 "metadata": {
  "kernelspec": {
   "display_name": "Python 3 (ipykernel)",
   "language": "python",
   "name": "python3"
  },
  "language_info": {
   "codemirror_mode": {
    "name": "ipython",
    "version": 3
   },
   "file_extension": ".py",
   "mimetype": "text/x-python",
   "name": "python",
   "nbconvert_exporter": "python",
   "pygments_lexer": "ipython3",
   "version": "3.9.13"
  }
 },
 "nbformat": 4,
 "nbformat_minor": 5
}
