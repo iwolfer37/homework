{
 "cells": [
  {
   "cell_type": "code",
   "execution_count": 19,
   "id": "b9770a18",
   "metadata": {},
   "outputs": [],
   "source": [
    "import torch\n",
    "import torch.nn as nn\n",
    "import torch.optim as optim\n",
    "from torchvision import transforms, datasets\n",
    "from torch.utils.data import DataLoader\n",
    "import matplotlib.pyplot as plt \n",
    "import warnings\n",
    "\n",
    "warnings.filterwarnings(\"ignore\")"
   ]
  },
  {
   "cell_type": "code",
   "execution_count": 20,
   "id": "d547f99a",
   "metadata": {},
   "outputs": [],
   "source": [
    "# Гіперпараметри\n",
    "z_dim = 100\n",
    "lr = 0.0002\n",
    "batch_size = 128\n",
    "num_epochs = 107\n",
    "device = torch.device('cuda' if torch.cuda.is_available() else 'cpu')"
   ]
  },
  {
   "cell_type": "code",
   "execution_count": 21,
   "id": "0b535a9d",
   "metadata": {},
   "outputs": [],
   "source": [
    "# Генератор\n",
    "class Generator(nn.Module):\n",
    "    def __init__(self, z_dim):\n",
    "        super(Generator, self).__init__()\n",
    "        self.z_dim = z_dim\n",
    "        self.gen = nn.Sequential(\n",
    "            nn.Linear(self.z_dim, 256),\n",
    "            nn.LeakyReLU(0.01),\n",
    "            nn.Linear(256, 784),\n",
    "            nn.Tanh()\n",
    "        )\n",
    "        \n",
    "    def forward(self, noise):\n",
    "        return self.gen(noise)"
   ]
  },
  {
   "cell_type": "code",
   "execution_count": 22,
   "id": "808b74e9",
   "metadata": {},
   "outputs": [],
   "source": [
    "# Дискримінатор\n",
    "class Discriminator(nn.Module):\n",
    "    def __init__(self):\n",
    "        super(Discriminator, self).__init__()\n",
    "        self.disc = nn.Sequential(\n",
    "            nn.Linear(784, 128),\n",
    "            nn.LeakyReLU(0.01),\n",
    "            nn.Linear(128, 1),\n",
    "            nn.Sigmoid()\n",
    "        )\n",
    "        \n",
    "    def forward(self, image):\n",
    "        return self.disc(image)"
   ]
  },
  {
   "cell_type": "code",
   "execution_count": 23,
   "id": "242f4f3b",
   "metadata": {},
   "outputs": [
    {
     "name": "stdout",
     "output_type": "stream",
     "text": [
      "Downloading http://yann.lecun.com/exdb/mnist/train-images-idx3-ubyte.gz\n",
      "Downloading http://yann.lecun.com/exdb/mnist/train-images-idx3-ubyte.gz to data/MNIST/raw/train-images-idx3-ubyte.gz\n"
     ]
    },
    {
     "name": "stderr",
     "output_type": "stream",
     "text": [
      "100%|████████████████████████████| 9912422/9912422 [00:01<00:00, 8262700.54it/s]\n"
     ]
    },
    {
     "name": "stdout",
     "output_type": "stream",
     "text": [
      "Extracting data/MNIST/raw/train-images-idx3-ubyte.gz to data/MNIST/raw\n",
      "\n",
      "Downloading http://yann.lecun.com/exdb/mnist/train-labels-idx1-ubyte.gz\n",
      "Downloading http://yann.lecun.com/exdb/mnist/train-labels-idx1-ubyte.gz to data/MNIST/raw/train-labels-idx1-ubyte.gz\n"
     ]
    },
    {
     "name": "stderr",
     "output_type": "stream",
     "text": [
      "100%|████████████████████████████████| 28881/28881 [00:00<00:00, 6961021.37it/s]"
     ]
    },
    {
     "name": "stdout",
     "output_type": "stream",
     "text": [
      "Extracting data/MNIST/raw/train-labels-idx1-ubyte.gz to data/MNIST/raw\n",
      "\n",
      "Downloading http://yann.lecun.com/exdb/mnist/t10k-images-idx3-ubyte.gz\n"
     ]
    },
    {
     "name": "stderr",
     "output_type": "stream",
     "text": [
      "\n"
     ]
    },
    {
     "name": "stdout",
     "output_type": "stream",
     "text": [
      "Downloading http://yann.lecun.com/exdb/mnist/t10k-images-idx3-ubyte.gz to data/MNIST/raw/t10k-images-idx3-ubyte.gz\n"
     ]
    },
    {
     "name": "stderr",
     "output_type": "stream",
     "text": [
      "100%|████████████████████████████| 1648877/1648877 [00:00<00:00, 5176635.16it/s]\n"
     ]
    },
    {
     "name": "stdout",
     "output_type": "stream",
     "text": [
      "Extracting data/MNIST/raw/t10k-images-idx3-ubyte.gz to data/MNIST/raw\n",
      "\n",
      "Downloading http://yann.lecun.com/exdb/mnist/t10k-labels-idx1-ubyte.gz\n",
      "Downloading http://yann.lecun.com/exdb/mnist/t10k-labels-idx1-ubyte.gz to data/MNIST/raw/t10k-labels-idx1-ubyte.gz\n"
     ]
    },
    {
     "name": "stderr",
     "output_type": "stream",
     "text": [
      "100%|███████████████████████████████████| 4542/4542 [00:00<00:00, 271781.56it/s]"
     ]
    },
    {
     "name": "stdout",
     "output_type": "stream",
     "text": [
      "Extracting data/MNIST/raw/t10k-labels-idx1-ubyte.gz to data/MNIST/raw\n",
      "\n"
     ]
    },
    {
     "name": "stderr",
     "output_type": "stream",
     "text": [
      "\n"
     ]
    }
   ],
   "source": [
    "# Завантаження даних\n",
    "transform = transforms.Compose([\n",
    "    transforms.ToTensor(),\n",
    "    transforms.Normalize((0.5,), (0.5,))\n",
    "])\n",
    "\n",
    "mnist_data = datasets.MNIST(root='data', train=True, transform=transform, download=True)\n",
    "data_loader = DataLoader(dataset=mnist_data, batch_size=batch_size, shuffle=True)"
   ]
  },
  {
   "cell_type": "code",
   "execution_count": 24,
   "id": "aa1df40c",
   "metadata": {},
   "outputs": [],
   "source": [
    "# Ініціалізація моделей та оптимізаторів\n",
    "generator = Generator(z_dim).to(device)\n",
    "discriminator = Discriminator().to(device)\n",
    "criterion = nn.BCELoss()\n",
    "d_optimizer = optim.Adam(discriminator.parameters(), lr=lr)\n",
    "g_optimizer = optim.Adam(generator.parameters(), lr=lr)"
   ]
  },
  {
   "cell_type": "code",
   "execution_count": 25,
   "id": "202ebc60",
   "metadata": {},
   "outputs": [
    {
     "name": "stdout",
     "output_type": "stream",
     "text": [
      "Епоха [1/107], D Втрати: 0.8725, G Втрати: 0.8805\n",
      "Епоха [2/107], D Втрати: 0.5977, G Втрати: 1.3719\n",
      "Епоха [3/107], D Втрати: 1.3876, G Втрати: 0.7055\n",
      "Епоха [4/107], D Втрати: 1.0304, G Втрати: 0.9669\n",
      "Епоха [5/107], D Втрати: 0.7606, G Втрати: 1.3026\n",
      "Епоха [6/107], D Втрати: 0.9688, G Втрати: 1.1554\n",
      "Епоха [7/107], D Втрати: 0.8154, G Втрати: 1.2678\n",
      "Епоха [8/107], D Втрати: 1.0055, G Втрати: 1.0969\n",
      "Епоха [9/107], D Втрати: 1.2190, G Втрати: 0.9655\n",
      "Епоха [10/107], D Втрати: 1.3662, G Втрати: 0.7165\n",
      "Епоха [11/107], D Втрати: 0.9909, G Втрати: 1.2327\n",
      "Епоха [12/107], D Втрати: 1.1053, G Втрати: 1.1081\n",
      "Епоха [13/107], D Втрати: 1.1550, G Втрати: 1.0065\n",
      "Епоха [14/107], D Втрати: 1.0890, G Втрати: 1.2977\n",
      "Епоха [15/107], D Втрати: 1.0859, G Втрати: 1.2073\n",
      "Епоха [16/107], D Втрати: 1.0347, G Втрати: 1.2014\n",
      "Епоха [17/107], D Втрати: 0.5307, G Втрати: 1.8836\n",
      "Епоха [18/107], D Втрати: 1.2272, G Втрати: 1.1488\n",
      "Епоха [19/107], D Втрати: 0.9060, G Втрати: 1.2018\n",
      "Епоха [20/107], D Втрати: 1.1898, G Втрати: 1.0381\n",
      "Епоха [21/107], D Втрати: 1.0396, G Втрати: 1.1872\n",
      "Епоха [22/107], D Втрати: 0.8277, G Втрати: 1.3580\n",
      "Епоха [23/107], D Втрати: 0.9745, G Втрати: 1.2196\n",
      "Епоха [24/107], D Втрати: 1.1697, G Втрати: 1.2355\n",
      "Епоха [25/107], D Втрати: 1.0799, G Втрати: 1.3679\n",
      "Епоха [26/107], D Втрати: 0.9007, G Втрати: 1.5204\n",
      "Епоха [27/107], D Втрати: 1.2527, G Втрати: 1.2493\n",
      "Епоха [28/107], D Втрати: 1.3772, G Втрати: 1.1364\n",
      "Епоха [29/107], D Втрати: 0.9746, G Втрати: 1.3276\n",
      "Епоха [30/107], D Втрати: 0.6219, G Втрати: 1.8436\n",
      "Епоха [31/107], D Втрати: 0.6886, G Втрати: 1.7267\n",
      "Епоха [32/107], D Втрати: 1.2083, G Втрати: 1.1615\n",
      "Епоха [33/107], D Втрати: 1.0647, G Втрати: 1.1169\n",
      "Епоха [34/107], D Втрати: 1.4462, G Втрати: 0.8967\n",
      "Епоха [35/107], D Втрати: 1.1045, G Втрати: 1.0515\n",
      "Епоха [36/107], D Втрати: 0.7018, G Втрати: 1.7089\n",
      "Епоха [37/107], D Втрати: 1.1546, G Втрати: 1.1209\n",
      "Епоха [38/107], D Втрати: 1.3285, G Втрати: 0.8904\n",
      "Епоха [39/107], D Втрати: 1.0280, G Втрати: 1.2983\n",
      "Епоха [40/107], D Втрати: 0.6606, G Втрати: 1.4913\n",
      "Епоха [41/107], D Втрати: 1.0629, G Втрати: 1.1140\n",
      "Епоха [42/107], D Втрати: 1.1868, G Втрати: 1.1997\n",
      "Епоха [43/107], D Втрати: 0.9112, G Втрати: 1.4255\n",
      "Епоха [44/107], D Втрати: 1.1980, G Втрати: 1.2511\n",
      "Епоха [45/107], D Втрати: 0.6958, G Втрати: 1.7313\n",
      "Епоха [46/107], D Втрати: 1.4127, G Втрати: 0.9715\n",
      "Епоха [47/107], D Втрати: 1.4715, G Втрати: 1.1001\n",
      "Епоха [48/107], D Втрати: 0.9950, G Втрати: 1.1363\n",
      "Епоха [49/107], D Втрати: 1.1210, G Втрати: 1.2915\n",
      "Епоха [50/107], D Втрати: 1.0660, G Втрати: 1.5612\n",
      "Епоха [51/107], D Втрати: 0.7926, G Втрати: 1.4378\n",
      "Епоха [52/107], D Втрати: 1.0219, G Втрати: 1.2356\n",
      "Епоха [53/107], D Втрати: 0.8829, G Втрати: 1.7111\n",
      "Епоха [54/107], D Втрати: 0.5181, G Втрати: 2.0287\n",
      "Епоха [55/107], D Втрати: 0.9508, G Втрати: 1.4267\n",
      "Епоха [56/107], D Втрати: 1.1478, G Втрати: 1.2373\n",
      "Епоха [57/107], D Втрати: 0.8810, G Втрати: 1.6533\n",
      "Епоха [58/107], D Втрати: 0.7261, G Втрати: 1.5685\n",
      "Епоха [59/107], D Втрати: 1.3948, G Втрати: 1.0339\n",
      "Епоха [60/107], D Втрати: 1.3563, G Втрати: 1.1138\n",
      "Епоха [61/107], D Втрати: 1.2365, G Втрати: 1.0887\n",
      "Епоха [62/107], D Втрати: 1.2729, G Втрати: 1.1483\n",
      "Епоха [63/107], D Втрати: 1.0470, G Втрати: 1.4277\n",
      "Епоха [64/107], D Втрати: 1.0672, G Втрати: 1.3088\n",
      "Епоха [65/107], D Втрати: 1.0505, G Втрати: 1.4589\n",
      "Епоха [66/107], D Втрати: 0.8507, G Втрати: 1.8190\n",
      "Епоха [67/107], D Втрати: 0.8736, G Втрати: 1.5174\n",
      "Епоха [68/107], D Втрати: 0.9181, G Втрати: 1.6931\n",
      "Епоха [69/107], D Втрати: 0.7655, G Втрати: 1.8486\n",
      "Епоха [70/107], D Втрати: 0.7339, G Втрати: 1.8525\n",
      "Епоха [71/107], D Втрати: 0.8403, G Втрати: 1.4034\n",
      "Епоха [72/107], D Втрати: 1.0325, G Втрати: 1.3727\n",
      "Епоха [73/107], D Втрати: 1.0877, G Втрати: 1.4940\n",
      "Епоха [74/107], D Втрати: 0.6804, G Втрати: 1.6595\n",
      "Епоха [75/107], D Втрати: 1.0851, G Втрати: 1.2763\n",
      "Епоха [76/107], D Втрати: 1.1047, G Втрати: 1.4784\n",
      "Епоха [77/107], D Втрати: 0.8501, G Втрати: 2.0760\n",
      "Епоха [78/107], D Втрати: 0.8411, G Втрати: 1.6400\n",
      "Епоха [79/107], D Втрати: 0.9633, G Втрати: 1.7462\n",
      "Епоха [80/107], D Втрати: 1.1178, G Втрати: 1.4253\n",
      "Епоха [81/107], D Втрати: 1.1888, G Втрати: 1.3100\n",
      "Епоха [82/107], D Втрати: 1.3791, G Втрати: 0.9925\n",
      "Епоха [83/107], D Втрати: 1.6743, G Втрати: 0.8165\n",
      "Епоха [84/107], D Втрати: 1.1928, G Втрати: 1.0718\n",
      "Епоха [85/107], D Втрати: 1.5372, G Втрати: 1.1511\n",
      "Епоха [86/107], D Втрати: 0.8014, G Втрати: 1.8445\n",
      "Епоха [87/107], D Втрати: 0.7543, G Втрати: 1.5765\n",
      "Епоха [88/107], D Втрати: 0.8794, G Втрати: 1.9470\n",
      "Епоха [89/107], D Втрати: 0.8642, G Втрати: 2.0541\n",
      "Епоха [90/107], D Втрати: 0.8913, G Втрати: 1.8243\n",
      "Епоха [91/107], D Втрати: 1.0588, G Втрати: 1.7303\n",
      "Епоха [92/107], D Втрати: 0.9495, G Втрати: 1.5707\n",
      "Епоха [93/107], D Втрати: 0.9574, G Втрати: 1.5554\n",
      "Епоха [94/107], D Втрати: 1.0557, G Втрати: 1.6126\n",
      "Епоха [95/107], D Втрати: 1.1027, G Втрати: 1.4929\n",
      "Епоха [96/107], D Втрати: 1.0345, G Втрати: 1.5060\n",
      "Епоха [97/107], D Втрати: 1.3244, G Втрати: 1.3187\n",
      "Епоха [98/107], D Втрати: 0.9475, G Втрати: 1.4418\n",
      "Епоха [99/107], D Втрати: 1.5464, G Втрати: 1.3845\n",
      "Епоха [100/107], D Втрати: 1.2623, G Втрати: 1.3019\n",
      "Епоха [101/107], D Втрати: 1.2696, G Втрати: 1.3023\n",
      "Епоха [102/107], D Втрати: 0.9734, G Втрати: 2.0332\n",
      "Епоха [103/107], D Втрати: 1.5201, G Втрати: 1.2349\n",
      "Епоха [104/107], D Втрати: 1.0187, G Втрати: 1.3682\n",
      "Епоха [105/107], D Втрати: 0.8642, G Втрати: 1.7659\n",
      "Епоха [106/107], D Втрати: 1.0094, G Втрати: 1.6787\n",
      "Епоха [107/107], D Втрати: 0.8514, G Втрати: 1.7828\n"
     ]
    }
   ],
   "source": [
    "# Навчання моделі\n",
    "for epoch in range(num_epochs):\n",
    "    for batch_idx, (real_images, _) in enumerate(data_loader):\n",
    "        real_images = real_images.view(-1, 784).to(device)\n",
    "        batch_size = real_images.shape[0]\n",
    "        \n",
    "        # Мітки для реальних та фейкових зображень\n",
    "        real_labels = torch.ones(batch_size, 1).to(device)\n",
    "        fake_labels = torch.zeros(batch_size, 1).to(device)\n",
    "        \n",
    "        # Навчання дискримінатора\n",
    "        d_optimizer.zero_grad()\n",
    "        real_outputs = discriminator(real_images)\n",
    "        d_loss_real = criterion(real_outputs, real_labels)\n",
    "        \n",
    "        noise = torch.randn(batch_size, z_dim).to(device)\n",
    "        fake_images = generator(noise)\n",
    "        fake_outputs = discriminator(fake_images.detach())\n",
    "        d_loss_fake = criterion(fake_outputs, fake_labels)\n",
    "        \n",
    "        d_loss = d_loss_real + d_loss_fake\n",
    "        d_loss.backward()\n",
    "        d_optimizer.step()\n",
    "        \n",
    "        # Навчання генератора\n",
    "        g_optimizer.zero_grad()\n",
    "        fake_outputs = discriminator(fake_images)\n",
    "        g_loss = criterion(fake_outputs, real_labels)\n",
    "        \n",
    "        g_loss.backward()\n",
    "        g_optimizer.step()\n",
    "        \n",
    "    # Вивід прогресу\n",
    "    print(f\"Епоха [{epoch+1}/{num_epochs}], D Втрати: {d_loss:.4f}, G Втрати: {g_loss:.4f}\")"
   ]
  },
  {
   "cell_type": "code",
   "execution_count": 26,
   "id": "965a739d",
   "metadata": {},
   "outputs": [
    {
     "data": {
      "image/png": "[encoded data removed]",
      "text/plain": [
       "<Figure size 1000x100 with 10 Axes>"
      ]
     },
     "metadata": {},
     "output_type": "display_data"
    }
   ],
   "source": [
    "# Генерація та відображення зображень\n",
    "z = torch.randn(10, z_dim).to(device)\n",
    "generated_images = generator(z)\n",
    "\n",
    "fig, axes = plt.subplots(1, 10, figsize=(10, 1))\n",
    "for i in range(10):\n",
    "    axes[i].imshow(generated_images[i].cpu().detach().view(28, 28), cmap='gray')  # Додайте .cpu() для переносу на CPU\n",
    "    axes[i].axis('off')\n",
    "plt.show()"
   ]
  }
 ],
 "metadata": {
  "kernelspec": {
   "display_name": "Python 3 (ipykernel)",
   "language": "python",
   "name": "python3"
  },
  "language_info": {
   "codemirror_mode": {
    "name": "ipython",
    "version": 3
   },
   "file_extension": ".py",
   "mimetype": "text/x-python",
   "name": "python",
   "nbconvert_exporter": "python",
   "pygments_lexer": "ipython3",
   "version": "3.9.13"
  }
 },
 "nbformat": 4,
 "nbformat_minor": 5
}
