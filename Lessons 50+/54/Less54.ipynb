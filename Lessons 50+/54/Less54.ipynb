{
 "cells": [
  {
   "cell_type": "code",
   "execution_count": 1,
   "id": "7deb1544",
   "metadata": {},
   "outputs": [
    {
     "name": "stdout",
     "output_type": "stream",
     "text": [
      "Downloading http://yann.lecun.com/exdb/mnist/train-images-idx3-ubyte.gz\n",
      "Downloading http://yann.lecun.com/exdb/mnist/train-images-idx3-ubyte.gz to ./dataset/MNIST/raw/train-images-idx3-ubyte.gz\n"
     ]
    },
    {
     "name": "stderr",
     "output_type": "stream",
     "text": [
      "100%|████████████████████████████| 9912422/9912422 [00:02<00:00, 4928804.30it/s]\n"
     ]
    },
    {
     "name": "stdout",
     "output_type": "stream",
     "text": [
      "Extracting ./dataset/MNIST/raw/train-images-idx3-ubyte.gz to ./dataset/MNIST/raw\n",
      "\n",
      "Downloading http://yann.lecun.com/exdb/mnist/train-labels-idx1-ubyte.gz\n",
      "Downloading http://yann.lecun.com/exdb/mnist/train-labels-idx1-ubyte.gz to ./dataset/MNIST/raw/train-labels-idx1-ubyte.gz\n"
     ]
    },
    {
     "name": "stderr",
     "output_type": "stream",
     "text": [
      "100%|█████████████████████████████████| 28881/28881 [00:00<00:00, 857160.91it/s]\n"
     ]
    },
    {
     "name": "stdout",
     "output_type": "stream",
     "text": [
      "Extracting ./dataset/MNIST/raw/train-labels-idx1-ubyte.gz to ./dataset/MNIST/raw\n",
      "\n",
      "Downloading http://yann.lecun.com/exdb/mnist/t10k-images-idx3-ubyte.gz\n",
      "Downloading http://yann.lecun.com/exdb/mnist/t10k-images-idx3-ubyte.gz to ./dataset/MNIST/raw/t10k-images-idx3-ubyte.gz\n"
     ]
    },
    {
     "name": "stderr",
     "output_type": "stream",
     "text": [
      "100%|████████████████████████████| 1648877/1648877 [00:00<00:00, 2709775.37it/s]\n"
     ]
    },
    {
     "name": "stdout",
     "output_type": "stream",
     "text": [
      "Extracting ./dataset/MNIST/raw/t10k-images-idx3-ubyte.gz to ./dataset/MNIST/raw\n",
      "\n",
      "Downloading http://yann.lecun.com/exdb/mnist/t10k-labels-idx1-ubyte.gz\n",
      "Downloading http://yann.lecun.com/exdb/mnist/t10k-labels-idx1-ubyte.gz to ./dataset/MNIST/raw/t10k-labels-idx1-ubyte.gz\n"
     ]
    },
    {
     "name": "stderr",
     "output_type": "stream",
     "text": [
      "100%|██████████████████████████████████| 4542/4542 [00:00<00:00, 3984632.66it/s]\n"
     ]
    },
    {
     "name": "stdout",
     "output_type": "stream",
     "text": [
      "Extracting ./dataset/MNIST/raw/t10k-labels-idx1-ubyte.gz to ./dataset/MNIST/raw\n",
      "\n",
      "Епоха 1, Втрати: 0.7764453025959702\n",
      "Епоха 2, Втрати: 0.3701750437047944\n",
      "Епоха 3, Втрати: 0.32695345890356786\n",
      "Епоха 4, Втрати: 0.30357958447100764\n",
      "Епоха 5, Втрати: 0.28711757082134676\n",
      "Епоха 6, Втрати: 0.2725509738347042\n",
      "Епоха 7, Втрати: 0.25890630800555003\n",
      "Епоха 8, Втрати: 0.24455337774461267\n",
      "Епоха 9, Втрати: 0.232456151054485\n",
      "Епоха 10, Втрати: 0.2201272824894327\n",
      "Кінець тренування 2-х шарової\n",
      "Точність 2-шарової мережі: 93.97333333333333%\n"
     ]
    }
   ],
   "source": [
    "import torch\n",
    "import torch.nn as nn\n",
    "import torch.optim as optim\n",
    "import torchvision\n",
    "import torchvision.transforms as transforms\n",
    "\n",
    "# Завантаження MNIST\n",
    "transform = transforms.Compose([transforms.ToTensor(), transforms.Normalize((0.5,), (0.5,))])\n",
    "trainset = torchvision.datasets.MNIST(root='./dataset', train=True, download=True, transform=transform)\n",
    "trainloader = torch.utils.data.DataLoader(trainset, batch_size=64, shuffle=True)\n",
    "\n",
    "# Визначення класу спочатку 2-ї нейромережі\n",
    "class TwoLayerNN(nn.Module):\n",
    "    def __init__(self):\n",
    "        super(TwoLayerNN, self).__init__()\n",
    "        self.fc1 = nn.Linear(28*28, 64)  # шар 1\n",
    "        self.fc2 = nn.Linear(64, 10)     # шар 2\n",
    "\n",
    "    def forward(self, x):\n",
    "        x = x.view(-1, 28*28)\n",
    "        x = torch.relu(self.fc1(x))\n",
    "        x = self.fc2(x)\n",
    "        return x\n",
    "\n",
    "# Ініціалізація моделі, функції втрат та оптимізатора\n",
    "net2 = TwoLayerNN()\n",
    "criterion2 = nn.CrossEntropyLoss()\n",
    "optimizer2 = optim.SGD(net2.parameters(), lr=0.001, momentum=0.9)\n",
    "\n",
    "# Тренування\n",
    "for epoch in range(10):\n",
    "    running_loss = 0.0\n",
    "    for i, data in enumerate(trainloader, 0):\n",
    "        inputs, labels = data\n",
    "        optimizer2.zero_grad()\n",
    "        outputs = net2(inputs)\n",
    "        loss = criterion2(outputs, labels)\n",
    "        loss.backward()\n",
    "        optimizer2.step()\n",
    "        running_loss += loss.item()\n",
    "    print(f\"Епоха {epoch+1}, Втрати: {running_loss / len(trainloader)}\")\n",
    "\n",
    "print(\"Кінець тренування 2-х шарової\")\n",
    "\n",
    "# Оцінка точності\n",
    "correct = 0\n",
    "total = 0\n",
    "with torch.no_grad():\n",
    "    for data in trainloader:\n",
    "        images, labels = data\n",
    "        outputs = net2(images)\n",
    "        _, predicted = torch.max(outputs.data, 1)\n",
    "        total += labels.size(0)\n",
    "        correct += (predicted == labels).sum().item()\n",
    "\n",
    "print(f\"Точність 2-шарової мережі: {100 * correct / total}%\")"
   ]
  },
  {
   "cell_type": "code",
   "execution_count": 2,
   "id": "c21b6ecb",
   "metadata": {},
   "outputs": [
    {
     "name": "stdout",
     "output_type": "stream",
     "text": [
      "Епоха 1, Втрати: 1.0610160054301403\n",
      "Епоха 2, Втрати: 0.3894066910849197\n",
      "Епоха 3, Втрати: 0.32894117802953415\n",
      "Епоха 4, Втрати: 0.29524024571182883\n",
      "Епоха 5, Втрати: 0.2700586396136454\n",
      "Епоха 6, Втрати: 0.2476796881158723\n",
      "Епоха 7, Втрати: 0.22676163100436933\n",
      "Епоха 8, Втрати: 0.20844834331653392\n",
      "Епоха 9, Втрати: 0.19288604799459483\n",
      "Епоха 10, Втрати: 0.17967591350918005\n",
      "Кінець тренування 3-х шарової\n",
      "Точність 3-шарової мережі: 95.13166666666666%\n"
     ]
    }
   ],
   "source": [
    "# Визначення класу тришарової нейромережі\n",
    "class ThreeLayerNN(nn.Module):\n",
    "    def __init__(self):\n",
    "        super(ThreeLayerNN, self).__init__()\n",
    "        self.fc1 = nn.Linear(28*28, 128)  # Повністю з'єднаний шар 1\n",
    "        self.fc2 = nn.Linear(128, 64)     # Повністю з'єднаний шар 2\n",
    "        self.fc3 = nn.Linear(64, 10)      # Повністю з'єднаний шар 3\n",
    "\n",
    "    def forward(self, x):\n",
    "        x = x.view(-1, 28*28)\n",
    "        x = torch.relu(self.fc1(x))\n",
    "        x = torch.relu(self.fc2(x))\n",
    "        x = self.fc3(x)\n",
    "        return x\n",
    "\n",
    "# Ініціалізація моделі, функції втрат та оптимізатора\n",
    "net3 = ThreeLayerNN()\n",
    "criterion3 = nn.CrossEntropyLoss()\n",
    "optimizer3 = optim.SGD(net3.parameters(), lr=0.001, momentum=0.9)\n",
    "\n",
    "# Тренування моделі\n",
    "for epoch in range(10):\n",
    "    running_loss = 0.0\n",
    "    for i, data in enumerate(trainloader, 0):\n",
    "        inputs, labels = data\n",
    "        optimizer3.zero_grad()\n",
    "        outputs = net3(inputs)\n",
    "        loss = criterion3(outputs, labels)\n",
    "        loss.backward()\n",
    "        optimizer3.step()\n",
    "        running_loss += loss.item()\n",
    "    print(f\"Епоха {epoch+1}, Втрати: {running_loss / len(trainloader)}\")\n",
    "\n",
    "print(\"Кінець тренування 3-х шарової\")\n",
    "\n",
    "# Оцінка точності моделі\n",
    "correct = 0\n",
    "total = 0\n",
    "with torch.no_grad():\n",
    "    for data in trainloader:\n",
    "        images, labels = data\n",
    "        outputs = net3(images)\n",
    "        _, predicted = torch.max(outputs.data, 1)\n",
    "        total += labels.size(0)\n",
    "        correct += (predicted == labels).sum().item()\n",
    "\n",
    "print(f\"Точність 3-шарової мережі: {100 * correct / total}%\")\n"
   ]
  },
  {
   "cell_type": "code",
   "execution_count": 3,
   "id": "a312db6d",
   "metadata": {},
   "outputs": [
    {
     "name": "stdout",
     "output_type": "stream",
     "text": [
      "Епоха 1, Втрати: 0.019861262782153163\n",
      "Епоха 2, Втрати: 0.010159035083720647\n",
      "Епоха 3, Втрати: 0.00807321152184655\n",
      "Епоха 4, Втрати: 0.00709772091492939\n",
      "Епоха 5, Втрати: 0.0064312093641742\n",
      "Епоха 6, Втрати: 0.0059562952375349235\n",
      "Епоха 7, Втрати: 0.005561459256382758\n",
      "Епоха 8, Втрати: 0.005044851225114731\n",
      "Епоха 9, Втрати: 0.0048595261294642955\n",
      "Епоха 10, Втрати: 0.0044384150600025075\n",
      "Кінець тренування 3-х шарової з MSE та Adam\n",
      "Точність 3-шарової мережі з MSE та Adam: 98.22833333333334%\n"
     ]
    }
   ],
   "source": [
    "# Ініціалізація моделі, функції втрат та оптимізатора\n",
    "net3_mse = ThreeLayerNN()\n",
    "criterion3_mse = nn.MSELoss()  # Використовуємо Mean Squared Error для оцінки похибки\n",
    "optimizer3_mse = optim.Adam(net3_mse.parameters(), lr=0.001)  # Використовуємо оптимізатор Adam\n",
    "\n",
    "# Тренування моделі\n",
    "for epoch in range(10):\n",
    "    running_loss = 0.0\n",
    "    for i, data in enumerate(trainloader, 0):\n",
    "        inputs, labels = data\n",
    "        # Одне гаряче кодування міток для використання з MSE\n",
    "        labels_one_hot = torch.nn.functional.one_hot(labels, 10).float()\n",
    "        optimizer3_mse.zero_grad()\n",
    "        outputs = net3_mse(inputs)\n",
    "        loss = criterion3_mse(outputs, labels_one_hot)\n",
    "        loss.backward()\n",
    "        optimizer3_mse.step()\n",
    "        running_loss += loss.item()\n",
    "    print(f\"Епоха {epoch+1}, Втрати: {running_loss / len(trainloader)}\")\n",
    "\n",
    "print(\"Кінець тренування 3-х шарової з MSE та Adam\")\n",
    "\n",
    "# Оцінка точності моделі\n",
    "correct = 0\n",
    "total = 0\n",
    "with torch.no_grad():\n",
    "    for data in trainloader:\n",
    "        images, labels = data\n",
    "        outputs = net3_mse(images)\n",
    "        _, predicted = torch.max(outputs.data, 1)\n",
    "        total += labels.size(0)\n",
    "        correct += (predicted == labels).sum().item()\n",
    "\n",
    "print(f\"Точність 3-шарової мережі з MSE та Adam: {100 * correct / total}%\")\n"
   ]
  },
  {
   "cell_type": "code",
   "execution_count": null,
   "id": "950d26c0",
   "metadata": {},
   "outputs": [],
   "source": [
    "Точність 2-шарової мережі: 93.97333333333333%\n",
    "Точність 3-шарової мережі: 95.13166666666666%\n",
    "Точність 3-шарової мережі з MSE та Adam: 98.22833333333334%"
   ]
  }
 ],
 "metadata": {
  "kernelspec": {
   "display_name": "Python 3 (ipykernel)",
   "language": "python",
   "name": "python3"
  },
  "language_info": {
   "codemirror_mode": {
    "name": "ipython",
    "version": 3
   },
   "file_extension": ".py",
   "mimetype": "text/x-python",
   "name": "python",
   "nbconvert_exporter": "python",
   "pygments_lexer": "ipython3",
   "version": "3.9.13"
  }
 },
 "nbformat": 4,
 "nbformat_minor": 5
}
