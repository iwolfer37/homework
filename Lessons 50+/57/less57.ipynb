{
 "cells": [
  {
   "cell_type": "code",
   "execution_count": 1,
   "id": "54e1782e",
   "metadata": {},
   "outputs": [],
   "source": [
    "import cv2\n",
    "import numpy as np\n",
    "\n",
    "# Зчитуємо логотип\n",
    "logo_path = \"/Users/iWolfer/Desktop/Pycharm/homework(pds6)/Lessons 50+/57/iwolfer.jpg\"\n",
    "logo = cv2.imread(logo_path)"
   ]
  },
  {
   "cell_type": "code",
   "execution_count": 2,
   "id": "cfbe48a3",
   "metadata": {},
   "outputs": [],
   "source": [
    "# Функція для зчитування та відображення зображення\n",
    "def my_logo(path):\n",
    "    logo = cv2.imread(path)\n",
    "    cv2.imshow('MyLogo', logo)\n",
    "    cv2.waitKey(0)\n",
    "    cv2.destroyAllWindows()\n",
    "\n",
    "# Функція для збереження зображення на диск\n",
    "def save_logo(logo, save_path):\n",
    "    cv2.imwrite(save_path, logo)"
   ]
  },
  {
   "cell_type": "code",
   "execution_count": 3,
   "id": "97bc860b",
   "metadata": {},
   "outputs": [],
   "source": [
    "# Зміна контрастності та яскравості\n",
    "def adjust_contrast_brightness(logo, alpha, beta):\n",
    "    return cv2.convertScaleAbs(logo, alpha=alpha, beta=beta)\n",
    "\n",
    "modified_contrast_brightness = adjust_contrast_brightness(logo, 1.5, 50)\n",
    "save_logo(modified_contrast_brightness, \"/Users/iWolfer/Desktop/Pycharm/homework(pds6)/Lessons 50+/57/contrast_brightness_iwolfer.jpg\")"
   ]
  },
  {
   "cell_type": "code",
   "execution_count": 4,
   "id": "8be7668d",
   "metadata": {},
   "outputs": [],
   "source": [
    "# Зміна яскравості\n",
    "def adjust_brightness(logo, value):\n",
    "    return cv2.convertScaleAbs(logo, alpha=1, beta=value)\n",
    "\n",
    "modified_brightness = adjust_brightness(logo, 50)\n",
    "save_logo(modified_brightness, \"/Users/iWolfer/Desktop/Pycharm/homework(pds6)/Lessons 50+/57/brightness_iwolfer.jpg\")"
   ]
  },
  {
   "cell_type": "code",
   "execution_count": 5,
   "id": "4869c3ce",
   "metadata": {},
   "outputs": [],
   "source": [
    "# Зміна насиченості \n",
    "def adjust_saturation(logo, saturation_coefficient):\n",
    "    hsv = cv2.cvtColor(logo, cv2.COLOR_BGR2HSV)\n",
    "    hsv[:, :, 1] = hsv[:, :, 1] * saturation_coefficient\n",
    "    return cv2.cvtColor(hsv, cv2.COLOR_HSV2BGR)\n",
    "\n",
    "modified_saturation = adjust_saturation(logo, 1.5)\n",
    "save_logo(modified_saturation, \"/Users/iWolfer/Desktop/Pycharm/homework(pds6)/Lessons 50+/57/saturation_iwolfer.jpg\")"
   ]
  },
  {
   "cell_type": "code",
   "execution_count": 6,
   "id": "3af7b052",
   "metadata": {},
   "outputs": [],
   "source": [
    "# Зміна розміру логотипу\n",
    "def resize_logo(logo, new_width, new_height):\n",
    "    return cv2.resize(logo, (new_width, new_height))\n",
    "\n",
    "resized_logo = resize_logo(logo, 300, 400)\n",
    "save_logo(resized_logo, \"/Users/iWolfer/Desktop/Pycharm/homework(pds6)/Lessons 50+/57/resized_iwolfer.jpg\")"
   ]
  },
  {
   "cell_type": "code",
   "execution_count": 7,
   "id": "0f382c5b",
   "metadata": {},
   "outputs": [],
   "source": [
    "# Поворот мого логотипу\n",
    "def rotate_logo(logo, angle):\n",
    "    center = (logo.shape[1] // 2, logo.shape[0] // 2)\n",
    "    rotation_matrix = cv2.getRotationMatrix2D(center, angle, 1)\n",
    "    return cv2.warpAffine(logo, rotation_matrix, (logo.shape[1], logo.shape[0]))\n",
    "\n",
    "rotated_logo = rotate_logo(logo, 45)\n",
    "save_logo(rotated_logo, \"/Users/iWolfer/Desktop/Pycharm/homework(pds6)/Lessons 50+/57/rotated_iwolfer.jpg\")"
   ]
  },
  {
   "cell_type": "code",
   "execution_count": 8,
   "id": "ba12b089",
   "metadata": {},
   "outputs": [],
   "source": [
    "# Обрізання мого логотипу\n",
    "def crop_logo(logo, start_x, start_y, end_x, end_y):\n",
    "    return logo[start_y:end_y, start_x:end_x]\n",
    "\n",
    "cropped_logo = crop_logo(logo, 100, 100, 250, 250)\n",
    "save_logo(cropped_logo, \"/Users/iWolfer/Desktop/Pycharm/homework(pds6)/Lessons 50+/57/cropped_iwolfer.jpg\")"
   ]
  }
 ],
 "metadata": {
  "kernelspec": {
   "display_name": "Python 3 (ipykernel)",
   "language": "python",
   "name": "python3"
  },
  "language_info": {
   "codemirror_mode": {
    "name": "ipython",
    "version": 3
   },
   "file_extension": ".py",
   "mimetype": "text/x-python",
   "name": "python",
   "nbconvert_exporter": "python",
   "pygments_lexer": "ipython3",
   "version": "3.9.13"
  }
 },
 "nbformat": 4,
 "nbformat_minor": 5
}
